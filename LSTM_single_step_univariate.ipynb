{
  "nbformat": 4,
  "nbformat_minor": 0,
  "metadata": {
    "colab": {
      "name": "LSTM_single step_univariate.ipynb",
      "provenance": [],
      "collapsed_sections": []
    },
    "kernelspec": {
      "name": "python3",
      "display_name": "Python 3"
    }
  },
  "cells": [
    {
      "cell_type": "code",
      "metadata": {
        "id": "wqm8AP-IHGs1"
      },
      "source": [
        "# importing libraries\r\n",
        "import pandas as pd\r\n",
        "import matplotlib.pyplot as plt\r\n",
        "%matplotlib inline\r\n",
        "import numpy as np\r\n",
        "import seaborn as sns\r\n",
        "import matplotlib as mpl\r\n",
        "from datetime import datetime\r\n",
        "import plotly.express as px\r\n",
        "import tensorflow as tf\r\n",
        "from sklearn.preprocessing import MinMaxScaler\r\n",
        "from tensorflow.keras.models import Sequential\r\n",
        "from tensorflow.keras.layers import Dense\r\n",
        "from tensorflow.keras.layers import LSTM\r\n"
      ],
      "execution_count": 1,
      "outputs": []
    },
    {
      "cell_type": "code",
      "metadata": {
        "colab": {
          "base_uri": "https://localhost:8080/"
        },
        "id": "BOrFvZZgHrPJ",
        "outputId": "208f4d15-af39-40ba-fc12-a2a03c082c2b"
      },
      "source": [
        "# Mounting the drive\r\n",
        "from google.colab import drive\r\n",
        "drive.mount('/content/gdrive')"
      ],
      "execution_count": 2,
      "outputs": [
        {
          "output_type": "stream",
          "text": [
            "Drive already mounted at /content/gdrive; to attempt to forcibly remount, call drive.mount(\"/content/gdrive\", force_remount=True).\n"
          ],
          "name": "stdout"
        }
      ]
    },
    {
      "cell_type": "code",
      "metadata": {
        "colab": {
          "base_uri": "https://localhost:8080/"
        },
        "id": "Mn9OCYtJIgMN",
        "outputId": "d9e8ab29-715b-4ab1-9e71-c05ab10409ca"
      },
      "source": [
        "ls'/content/gdrive/My Drive/Thesis'"
      ],
      "execution_count": 3,
      "outputs": [
        {
          "output_type": "stream",
          "text": [
            "dataframe_dma_flow_1D.csv     dataframe_flow_variable_1D.csv\n",
            "dataframe_dma_flow_60min.csv  dataframe_flow_variable_60min.csv\n",
            "dataframe_flow_1D.csv         DMA_225.csv\n"
          ],
          "name": "stdout"
        }
      ]
    },
    {
      "cell_type": "code",
      "metadata": {
        "id": "zUOCUaXWIwPh"
      },
      "source": [
        "data = pd.read_csv(\"/content/gdrive/My Drive/Thesis/DMA_225.csv\")\r\n",
        "data['Date-time'] = pd.to_datetime(data['Date-time'], dayfirst=True, errors='coerce')"
      ],
      "execution_count": 4,
      "outputs": []
    },
    {
      "cell_type": "code",
      "metadata": {
        "id": "KXUdA0zOJIF1"
      },
      "source": [
        "data.rename( columns={'Flow':'DMA_225','Date-time':'Date_time'}, inplace=True )"
      ],
      "execution_count": 5,
      "outputs": []
    },
    {
      "cell_type": "code",
      "metadata": {
        "id": "vY72Ke83JcT5"
      },
      "source": [
        "data_DMA225 = data[['Date_time','DMA_225']]"
      ],
      "execution_count": 6,
      "outputs": []
    },
    {
      "cell_type": "code",
      "metadata": {
        "id": "wjVG5hMaJhHR"
      },
      "source": [
        "data_DMA225_indexed = data_DMA225.set_index('Date_time')"
      ],
      "execution_count": 7,
      "outputs": []
    },
    {
      "cell_type": "code",
      "metadata": {
        "colab": {
          "base_uri": "https://localhost:8080/"
        },
        "id": "IzOJlWWEJklH",
        "outputId": "1b85e182-4341-4a9f-93e0-1bf5b1298516"
      },
      "source": [
        "data_DMA225_indexed.shape"
      ],
      "execution_count": 8,
      "outputs": [
        {
          "output_type": "execute_result",
          "data": {
            "text/plain": [
              "(35040, 1)"
            ]
          },
          "metadata": {
            "tags": []
          },
          "execution_count": 8
        }
      ]
    },
    {
      "cell_type": "code",
      "metadata": {
        "id": "jxkZRQC_Joqb",
        "colab": {
          "base_uri": "https://localhost:8080/"
        },
        "outputId": "d6145a37-e021-47ba-ea2f-355f4ce2f700"
      },
      "source": [
        "# Sampling the data into daily sum.\r\n",
        "dd = data_DMA225_indexed.resample('D').sum()\r\n",
        "dd.shape"
      ],
      "execution_count": 9,
      "outputs": [
        {
          "output_type": "execute_result",
          "data": {
            "text/plain": [
              "(365, 1)"
            ]
          },
          "metadata": {
            "tags": []
          },
          "execution_count": 9
        }
      ]
    },
    {
      "cell_type": "code",
      "metadata": {
        "id": "NMvUtx86Jxl0"
      },
      "source": [
        "values = dd.values"
      ],
      "execution_count": 10,
      "outputs": []
    },
    {
      "cell_type": "code",
      "metadata": {
        "id": "Q51Uw-QhJ6Ya",
        "colab": {
          "base_uri": "https://localhost:8080/"
        },
        "outputId": "a6d0abe0-5ba5-4b53-97ca-72bc79d3a20c"
      },
      "source": [
        "# Splitting train and test set.\r\n",
        "train_size = int(len(values) * 0.70)\r\n",
        "test_size = len(values) - train_size\r\n",
        "train, test = values[0:train_size,:], values[train_size:len(values),:]\r\n",
        "print(len(train), len(test))"
      ],
      "execution_count": 11,
      "outputs": [
        {
          "output_type": "stream",
          "text": [
            "255 110\n"
          ],
          "name": "stdout"
        }
      ]
    },
    {
      "cell_type": "code",
      "metadata": {
        "id": "MAHo0TilUgKq"
      },
      "source": [
        "# Converting numpy array into matrix:\r\n",
        "def matrix_dataset(array_dataset, timesteps=1):\r\n",
        " mat_X, mat_Y = [], []\r\n",
        " for i in range(len(array_dataset)-timesteps-1):\r\n",
        "  Z = i+timesteps\r\n",
        "  m = array_dataset[i:Z, 0]\r\n",
        "  mat_X.append(m)\r\n",
        "  n = array_dataset[Z, 0]\r\n",
        "  mat_Y.append(n)\r\n",
        " return np.array(mat_X), np.array( mat_Y)"
      ],
      "execution_count": 12,
      "outputs": []
    },
    {
      "cell_type": "code",
      "metadata": {
        "id": "3TD0j0nrMmOq"
      },
      "source": [
        "# Standardisation of the data\r\n",
        "scaler = MinMaxScaler(feature_range=(0, 1))\r\n",
        "train_val = scaler.fit_transform(train)\r\n",
        "test_val = scaler.fit_transform(test)\r\n",
        "\r\n",
        "# Look_back : t-6, t-5, t-4, t-3, t-2, t-1 and t  to calculate t+1 (single step prediction)\r\n",
        "look_back = 7\r\n",
        "X_train, Y_train = matrix_dataset(train_val, look_back)\r\n",
        "X_test, Y_test = matrix_dataset(test_val, look_back)"
      ],
      "execution_count": 13,
      "outputs": []
    },
    {
      "cell_type": "code",
      "metadata": {
        "id": "-v2AFGjfBa8V"
      },
      "source": [
        "# reshape input to be [samples, time_steps, features]\r\n",
        "time_steps = 1 # single-step prediction\r\n",
        "features = 1\r\n",
        "X_train = np.reshape(X_train, (X_train.shape[0],1,X_train.shape[1]))\r\n",
        "X_test = np.reshape(X_test, (X_test.shape[0],1,X_test.shape[1]))\r\n",
        "#X_train = np.reshape(X_train, (X_train.shape[0],1,1))\r\n",
        "#X_test = np.reshape(X_test, (X_test.shape[0],1,1))"
      ],
      "execution_count": 14,
      "outputs": []
    },
    {
      "cell_type": "code",
      "metadata": {
        "colab": {
          "base_uri": "https://localhost:8080/"
        },
        "id": "qJ130XMIOpSD",
        "outputId": "f62ef9dd-cce9-456f-c279-d074b59f3569"
      },
      "source": [
        "# LSTM model\r\n",
        "model = tf.keras.Sequential()\r\n",
        "model.add(LSTM(6, input_shape=(time_steps,look_back)))\r\n",
        "model.add(Dense(1))\r\n",
        "model.compile(loss='mean_squared_error', optimizer='adam')\r\n",
        "history=model.fit(X_train, Y_train, validation_data=(X_test,Y_test),shuffle=False, epochs=100, batch_size=1, verbose=2)"
      ],
      "execution_count": 15,
      "outputs": [
        {
          "output_type": "stream",
          "text": [
            "Epoch 1/100\n",
            "247/247 - 3s - loss: 0.0086 - val_loss: 0.0095\n",
            "Epoch 2/100\n",
            "247/247 - 0s - loss: 0.0080 - val_loss: 0.0092\n",
            "Epoch 3/100\n",
            "247/247 - 0s - loss: 0.0074 - val_loss: 0.0091\n",
            "Epoch 4/100\n",
            "247/247 - 0s - loss: 0.0070 - val_loss: 0.0091\n",
            "Epoch 5/100\n",
            "247/247 - 0s - loss: 0.0067 - val_loss: 0.0092\n",
            "Epoch 6/100\n",
            "247/247 - 0s - loss: 0.0064 - val_loss: 0.0092\n",
            "Epoch 7/100\n",
            "247/247 - 0s - loss: 0.0062 - val_loss: 0.0093\n",
            "Epoch 8/100\n",
            "247/247 - 0s - loss: 0.0060 - val_loss: 0.0094\n",
            "Epoch 9/100\n",
            "247/247 - 0s - loss: 0.0058 - val_loss: 0.0096\n",
            "Epoch 10/100\n",
            "247/247 - 0s - loss: 0.0056 - val_loss: 0.0097\n",
            "Epoch 11/100\n",
            "247/247 - 0s - loss: 0.0055 - val_loss: 0.0098\n",
            "Epoch 12/100\n",
            "247/247 - 0s - loss: 0.0054 - val_loss: 0.0100\n",
            "Epoch 13/100\n",
            "247/247 - 0s - loss: 0.0052 - val_loss: 0.0101\n",
            "Epoch 14/100\n",
            "247/247 - 0s - loss: 0.0051 - val_loss: 0.0102\n",
            "Epoch 15/100\n",
            "247/247 - 0s - loss: 0.0050 - val_loss: 0.0104\n",
            "Epoch 16/100\n",
            "247/247 - 0s - loss: 0.0049 - val_loss: 0.0105\n",
            "Epoch 17/100\n",
            "247/247 - 0s - loss: 0.0048 - val_loss: 0.0107\n",
            "Epoch 18/100\n",
            "247/247 - 0s - loss: 0.0047 - val_loss: 0.0108\n",
            "Epoch 19/100\n",
            "247/247 - 0s - loss: 0.0047 - val_loss: 0.0110\n",
            "Epoch 20/100\n",
            "247/247 - 0s - loss: 0.0046 - val_loss: 0.0111\n",
            "Epoch 21/100\n",
            "247/247 - 0s - loss: 0.0045 - val_loss: 0.0112\n",
            "Epoch 22/100\n",
            "247/247 - 0s - loss: 0.0045 - val_loss: 0.0114\n",
            "Epoch 23/100\n",
            "247/247 - 0s - loss: 0.0044 - val_loss: 0.0115\n",
            "Epoch 24/100\n",
            "247/247 - 0s - loss: 0.0044 - val_loss: 0.0116\n",
            "Epoch 25/100\n",
            "247/247 - 0s - loss: 0.0043 - val_loss: 0.0118\n",
            "Epoch 26/100\n",
            "247/247 - 0s - loss: 0.0043 - val_loss: 0.0119\n",
            "Epoch 27/100\n",
            "247/247 - 0s - loss: 0.0043 - val_loss: 0.0120\n",
            "Epoch 28/100\n",
            "247/247 - 0s - loss: 0.0042 - val_loss: 0.0121\n",
            "Epoch 29/100\n",
            "247/247 - 0s - loss: 0.0042 - val_loss: 0.0122\n",
            "Epoch 30/100\n",
            "247/247 - 0s - loss: 0.0041 - val_loss: 0.0123\n",
            "Epoch 31/100\n",
            "247/247 - 0s - loss: 0.0041 - val_loss: 0.0124\n",
            "Epoch 32/100\n",
            "247/247 - 0s - loss: 0.0041 - val_loss: 0.0125\n",
            "Epoch 33/100\n",
            "247/247 - 0s - loss: 0.0041 - val_loss: 0.0126\n",
            "Epoch 34/100\n",
            "247/247 - 0s - loss: 0.0040 - val_loss: 0.0126\n",
            "Epoch 35/100\n",
            "247/247 - 0s - loss: 0.0040 - val_loss: 0.0127\n",
            "Epoch 36/100\n",
            "247/247 - 0s - loss: 0.0040 - val_loss: 0.0128\n",
            "Epoch 37/100\n",
            "247/247 - 0s - loss: 0.0040 - val_loss: 0.0129\n",
            "Epoch 38/100\n",
            "247/247 - 0s - loss: 0.0039 - val_loss: 0.0129\n",
            "Epoch 39/100\n",
            "247/247 - 0s - loss: 0.0039 - val_loss: 0.0130\n",
            "Epoch 40/100\n",
            "247/247 - 0s - loss: 0.0039 - val_loss: 0.0131\n",
            "Epoch 41/100\n",
            "247/247 - 0s - loss: 0.0039 - val_loss: 0.0131\n",
            "Epoch 42/100\n",
            "247/247 - 0s - loss: 0.0038 - val_loss: 0.0132\n",
            "Epoch 43/100\n",
            "247/247 - 0s - loss: 0.0038 - val_loss: 0.0132\n",
            "Epoch 44/100\n",
            "247/247 - 0s - loss: 0.0038 - val_loss: 0.0133\n",
            "Epoch 45/100\n",
            "247/247 - 0s - loss: 0.0038 - val_loss: 0.0133\n",
            "Epoch 46/100\n",
            "247/247 - 0s - loss: 0.0037 - val_loss: 0.0134\n",
            "Epoch 47/100\n",
            "247/247 - 0s - loss: 0.0037 - val_loss: 0.0134\n",
            "Epoch 48/100\n",
            "247/247 - 0s - loss: 0.0037 - val_loss: 0.0135\n",
            "Epoch 49/100\n",
            "247/247 - 0s - loss: 0.0037 - val_loss: 0.0135\n",
            "Epoch 50/100\n",
            "247/247 - 0s - loss: 0.0037 - val_loss: 0.0135\n",
            "Epoch 51/100\n",
            "247/247 - 0s - loss: 0.0036 - val_loss: 0.0136\n",
            "Epoch 52/100\n",
            "247/247 - 0s - loss: 0.0036 - val_loss: 0.0136\n",
            "Epoch 53/100\n",
            "247/247 - 0s - loss: 0.0036 - val_loss: 0.0137\n",
            "Epoch 54/100\n",
            "247/247 - 0s - loss: 0.0036 - val_loss: 0.0137\n",
            "Epoch 55/100\n",
            "247/247 - 0s - loss: 0.0036 - val_loss: 0.0137\n",
            "Epoch 56/100\n",
            "247/247 - 0s - loss: 0.0036 - val_loss: 0.0138\n",
            "Epoch 57/100\n",
            "247/247 - 0s - loss: 0.0035 - val_loss: 0.0138\n",
            "Epoch 58/100\n",
            "247/247 - 0s - loss: 0.0035 - val_loss: 0.0138\n",
            "Epoch 59/100\n",
            "247/247 - 0s - loss: 0.0035 - val_loss: 0.0139\n",
            "Epoch 60/100\n",
            "247/247 - 0s - loss: 0.0035 - val_loss: 0.0139\n",
            "Epoch 61/100\n",
            "247/247 - 0s - loss: 0.0035 - val_loss: 0.0139\n",
            "Epoch 62/100\n",
            "247/247 - 0s - loss: 0.0035 - val_loss: 0.0139\n",
            "Epoch 63/100\n",
            "247/247 - 0s - loss: 0.0034 - val_loss: 0.0140\n",
            "Epoch 64/100\n",
            "247/247 - 0s - loss: 0.0034 - val_loss: 0.0140\n",
            "Epoch 65/100\n",
            "247/247 - 0s - loss: 0.0034 - val_loss: 0.0140\n",
            "Epoch 66/100\n",
            "247/247 - 0s - loss: 0.0034 - val_loss: 0.0140\n",
            "Epoch 67/100\n",
            "247/247 - 0s - loss: 0.0034 - val_loss: 0.0141\n",
            "Epoch 68/100\n",
            "247/247 - 0s - loss: 0.0034 - val_loss: 0.0141\n",
            "Epoch 69/100\n",
            "247/247 - 0s - loss: 0.0033 - val_loss: 0.0141\n",
            "Epoch 70/100\n",
            "247/247 - 0s - loss: 0.0033 - val_loss: 0.0141\n",
            "Epoch 71/100\n",
            "247/247 - 0s - loss: 0.0033 - val_loss: 0.0141\n",
            "Epoch 72/100\n",
            "247/247 - 0s - loss: 0.0033 - val_loss: 0.0141\n",
            "Epoch 73/100\n",
            "247/247 - 0s - loss: 0.0033 - val_loss: 0.0142\n",
            "Epoch 74/100\n",
            "247/247 - 0s - loss: 0.0033 - val_loss: 0.0142\n",
            "Epoch 75/100\n",
            "247/247 - 0s - loss: 0.0033 - val_loss: 0.0142\n",
            "Epoch 76/100\n",
            "247/247 - 0s - loss: 0.0032 - val_loss: 0.0142\n",
            "Epoch 77/100\n",
            "247/247 - 0s - loss: 0.0032 - val_loss: 0.0142\n",
            "Epoch 78/100\n",
            "247/247 - 0s - loss: 0.0032 - val_loss: 0.0142\n",
            "Epoch 79/100\n",
            "247/247 - 0s - loss: 0.0032 - val_loss: 0.0142\n",
            "Epoch 80/100\n",
            "247/247 - 0s - loss: 0.0032 - val_loss: 0.0142\n",
            "Epoch 81/100\n",
            "247/247 - 0s - loss: 0.0032 - val_loss: 0.0142\n",
            "Epoch 82/100\n",
            "247/247 - 0s - loss: 0.0032 - val_loss: 0.0143\n",
            "Epoch 83/100\n",
            "247/247 - 0s - loss: 0.0031 - val_loss: 0.0143\n",
            "Epoch 84/100\n",
            "247/247 - 0s - loss: 0.0031 - val_loss: 0.0143\n",
            "Epoch 85/100\n",
            "247/247 - 0s - loss: 0.0031 - val_loss: 0.0143\n",
            "Epoch 86/100\n",
            "247/247 - 0s - loss: 0.0031 - val_loss: 0.0143\n",
            "Epoch 87/100\n",
            "247/247 - 0s - loss: 0.0031 - val_loss: 0.0143\n",
            "Epoch 88/100\n",
            "247/247 - 0s - loss: 0.0031 - val_loss: 0.0143\n",
            "Epoch 89/100\n",
            "247/247 - 0s - loss: 0.0031 - val_loss: 0.0143\n",
            "Epoch 90/100\n",
            "247/247 - 0s - loss: 0.0031 - val_loss: 0.0143\n",
            "Epoch 91/100\n",
            "247/247 - 0s - loss: 0.0031 - val_loss: 0.0143\n",
            "Epoch 92/100\n",
            "247/247 - 0s - loss: 0.0030 - val_loss: 0.0143\n",
            "Epoch 93/100\n",
            "247/247 - 0s - loss: 0.0030 - val_loss: 0.0143\n",
            "Epoch 94/100\n",
            "247/247 - 0s - loss: 0.0030 - val_loss: 0.0143\n",
            "Epoch 95/100\n",
            "247/247 - 0s - loss: 0.0030 - val_loss: 0.0143\n",
            "Epoch 96/100\n",
            "247/247 - 0s - loss: 0.0030 - val_loss: 0.0143\n",
            "Epoch 97/100\n",
            "247/247 - 0s - loss: 0.0030 - val_loss: 0.0143\n",
            "Epoch 98/100\n",
            "247/247 - 0s - loss: 0.0030 - val_loss: 0.0143\n",
            "Epoch 99/100\n",
            "247/247 - 0s - loss: 0.0030 - val_loss: 0.0143\n",
            "Epoch 100/100\n",
            "247/247 - 0s - loss: 0.0030 - val_loss: 0.0143\n"
          ],
          "name": "stdout"
        }
      ]
    },
    {
      "cell_type": "code",
      "metadata": {
        "colab": {
          "base_uri": "https://localhost:8080/"
        },
        "id": "MFCmxAe2PkrB",
        "outputId": "528cca94-edc5-4585-9158-bab46d80ac56"
      },
      "source": [
        "model.summary()"
      ],
      "execution_count": 16,
      "outputs": [
        {
          "output_type": "stream",
          "text": [
            "Model: \"sequential\"\n",
            "_________________________________________________________________\n",
            "Layer (type)                 Output Shape              Param #   \n",
            "=================================================================\n",
            "lstm (LSTM)                  (None, 6)                 336       \n",
            "_________________________________________________________________\n",
            "dense (Dense)                (None, 1)                 7         \n",
            "=================================================================\n",
            "Total params: 343\n",
            "Trainable params: 343\n",
            "Non-trainable params: 0\n",
            "_________________________________________________________________\n"
          ],
          "name": "stdout"
        }
      ]
    },
    {
      "cell_type": "code",
      "metadata": {
        "colab": {
          "base_uri": "https://localhost:8080/"
        },
        "id": "ZvcKw9O5LNTr",
        "outputId": "271dd444-6cb1-4501-c204-29e7167d844b"
      },
      "source": [
        "# Generate predictions\r\n",
        "train_pred = model.predict(X_train)\r\n",
        "evaluation = model.evaluate(x=X_test, y=Y_test, verbose=1)\r\n",
        "test_pred = model.predict(X_test)"
      ],
      "execution_count": 17,
      "outputs": [
        {
          "output_type": "stream",
          "text": [
            "4/4 [==============================] - 0s 5ms/step - loss: 0.0143\n"
          ],
          "name": "stdout"
        }
      ]
    },
    {
      "cell_type": "code",
      "metadata": {
        "id": "6escWDYNCTrt"
      },
      "source": [
        "# De-standardising the output to original value\r\n",
        "train_pred = scaler.inverse_transform(train_pred)\r\n",
        "Y_train = scaler.inverse_transform([Y_train])\r\n",
        "test_pred = scaler.inverse_transform(test_pred)\r\n",
        "Y_test = scaler.inverse_transform([Y_test])\r\n",
        "predictions = test_pred"
      ],
      "execution_count": 18,
      "outputs": []
    },
    {
      "cell_type": "code",
      "metadata": {
        "colab": {
          "base_uri": "https://localhost:8080/"
        },
        "id": "D7l1WI70P_9r",
        "outputId": "d754b71e-32de-43f4-b0ed-5f23578b2c39"
      },
      "source": [
        "# Calculating RMSE\r\n",
        "import math\r\n",
        "from sklearn.metrics import mean_squared_error\r\n",
        "trainset = math.sqrt(mean_squared_error(Y_train[0],train_pred[:,0]))\r\n",
        "testset = math.sqrt(mean_squared_error(Y_test[0],test_pred[:,0]))\r\n",
        "\r\n",
        "print(\"The RMSE prediction value on trainset: \",trainset)\r\n",
        "print(\"The RMSE prediction value on testset: \",testset)"
      ],
      "execution_count": 20,
      "outputs": [
        {
          "output_type": "stream",
          "text": [
            "The RMSE prediction value on trainset:  55.008426968970696\n",
            "The RMSE prediction value on testset:  115.23335352575512\n"
          ],
          "name": "stdout"
        }
      ]
    },
    {
      "cell_type": "code",
      "metadata": {
        "id": "KxvdB_TZpb3E"
      },
      "source": [
        ""
      ],
      "execution_count": null,
      "outputs": []
    }
  ]
}