{
  "nbformat": 4,
  "nbformat_minor": 0,
  "metadata": {
    "colab": {
      "name": "DMA_468_MV_Autokeras.ipynb",
      "provenance": [],
      "collapsed_sections": []
    },
    "kernelspec": {
      "name": "python3",
      "display_name": "Python 3"
    },
    "language_info": {
      "name": "python"
    }
  },
  "cells": [
    {
      "cell_type": "code",
      "metadata": {
        "colab": {
          "base_uri": "https://localhost:8080/"
        },
        "id": "WMxxCJIBZqy7",
        "outputId": "9a7e7f08-b054-4384-b950-cbb71f66bf2e"
      },
      "source": [
        "!pip install autokeras"
      ],
      "execution_count": 1,
      "outputs": [
        {
          "output_type": "stream",
          "text": [
            "Collecting autokeras\n",
            "  Downloading autokeras-1.0.15-py3-none-any.whl (166 kB)\n",
            "\u001b[K     |████████████████████████████████| 166 kB 10.2 MB/s \n",
            "\u001b[?25hRequirement already satisfied: packaging in /usr/local/lib/python3.7/dist-packages (from autokeras) (21.0)\n",
            "Collecting keras-tuner>=1.0.2\n",
            "  Downloading keras_tuner-1.0.3-py3-none-any.whl (96 kB)\n",
            "\u001b[K     |████████████████████████████████| 96 kB 4.7 MB/s \n",
            "\u001b[?25hRequirement already satisfied: scikit-learn in /usr/local/lib/python3.7/dist-packages (from autokeras) (0.22.2.post1)\n",
            "Requirement already satisfied: tensorflow>=2.3.0 in /usr/local/lib/python3.7/dist-packages (from autokeras) (2.5.0)\n",
            "Requirement already satisfied: pandas in /usr/local/lib/python3.7/dist-packages (from autokeras) (1.1.5)\n",
            "Requirement already satisfied: numpy in /usr/local/lib/python3.7/dist-packages (from keras-tuner>=1.0.2->autokeras) (1.19.5)\n",
            "Requirement already satisfied: ipython in /usr/local/lib/python3.7/dist-packages (from keras-tuner>=1.0.2->autokeras) (5.5.0)\n",
            "Requirement already satisfied: tensorboard in /usr/local/lib/python3.7/dist-packages (from keras-tuner>=1.0.2->autokeras) (2.5.0)\n",
            "Requirement already satisfied: requests in /usr/local/lib/python3.7/dist-packages (from keras-tuner>=1.0.2->autokeras) (2.23.0)\n",
            "Requirement already satisfied: scipy in /usr/local/lib/python3.7/dist-packages (from keras-tuner>=1.0.2->autokeras) (1.4.1)\n",
            "Collecting kt-legacy\n",
            "  Downloading kt-legacy-1.0.3.tar.gz (5.8 kB)\n",
            "Requirement already satisfied: google-pasta~=0.2 in /usr/local/lib/python3.7/dist-packages (from tensorflow>=2.3.0->autokeras) (0.2.0)\n",
            "Requirement already satisfied: typing-extensions~=3.7.4 in /usr/local/lib/python3.7/dist-packages (from tensorflow>=2.3.0->autokeras) (3.7.4.3)\n",
            "Requirement already satisfied: keras-nightly~=2.5.0.dev in /usr/local/lib/python3.7/dist-packages (from tensorflow>=2.3.0->autokeras) (2.5.0.dev2021032900)\n",
            "Requirement already satisfied: tensorflow-estimator<2.6.0,>=2.5.0rc0 in /usr/local/lib/python3.7/dist-packages (from tensorflow>=2.3.0->autokeras) (2.5.0)\n",
            "Requirement already satisfied: grpcio~=1.34.0 in /usr/local/lib/python3.7/dist-packages (from tensorflow>=2.3.0->autokeras) (1.34.1)\n",
            "Requirement already satisfied: opt-einsum~=3.3.0 in /usr/local/lib/python3.7/dist-packages (from tensorflow>=2.3.0->autokeras) (3.3.0)\n",
            "Requirement already satisfied: keras-preprocessing~=1.1.2 in /usr/local/lib/python3.7/dist-packages (from tensorflow>=2.3.0->autokeras) (1.1.2)\n",
            "Requirement already satisfied: wheel~=0.35 in /usr/local/lib/python3.7/dist-packages (from tensorflow>=2.3.0->autokeras) (0.36.2)\n",
            "Requirement already satisfied: protobuf>=3.9.2 in /usr/local/lib/python3.7/dist-packages (from tensorflow>=2.3.0->autokeras) (3.17.3)\n",
            "Requirement already satisfied: wrapt~=1.12.1 in /usr/local/lib/python3.7/dist-packages (from tensorflow>=2.3.0->autokeras) (1.12.1)\n",
            "Requirement already satisfied: gast==0.4.0 in /usr/local/lib/python3.7/dist-packages (from tensorflow>=2.3.0->autokeras) (0.4.0)\n",
            "Requirement already satisfied: six~=1.15.0 in /usr/local/lib/python3.7/dist-packages (from tensorflow>=2.3.0->autokeras) (1.15.0)\n",
            "Requirement already satisfied: absl-py~=0.10 in /usr/local/lib/python3.7/dist-packages (from tensorflow>=2.3.0->autokeras) (0.12.0)\n",
            "Requirement already satisfied: h5py~=3.1.0 in /usr/local/lib/python3.7/dist-packages (from tensorflow>=2.3.0->autokeras) (3.1.0)\n",
            "Requirement already satisfied: termcolor~=1.1.0 in /usr/local/lib/python3.7/dist-packages (from tensorflow>=2.3.0->autokeras) (1.1.0)\n",
            "Requirement already satisfied: astunparse~=1.6.3 in /usr/local/lib/python3.7/dist-packages (from tensorflow>=2.3.0->autokeras) (1.6.3)\n",
            "Requirement already satisfied: flatbuffers~=1.12.0 in /usr/local/lib/python3.7/dist-packages (from tensorflow>=2.3.0->autokeras) (1.12)\n",
            "Requirement already satisfied: cached-property in /usr/local/lib/python3.7/dist-packages (from h5py~=3.1.0->tensorflow>=2.3.0->autokeras) (1.5.2)\n",
            "Requirement already satisfied: google-auth<2,>=1.6.3 in /usr/local/lib/python3.7/dist-packages (from tensorboard->keras-tuner>=1.0.2->autokeras) (1.32.1)\n",
            "Requirement already satisfied: tensorboard-data-server<0.7.0,>=0.6.0 in /usr/local/lib/python3.7/dist-packages (from tensorboard->keras-tuner>=1.0.2->autokeras) (0.6.1)\n",
            "Requirement already satisfied: setuptools>=41.0.0 in /usr/local/lib/python3.7/dist-packages (from tensorboard->keras-tuner>=1.0.2->autokeras) (57.2.0)\n",
            "Requirement already satisfied: google-auth-oauthlib<0.5,>=0.4.1 in /usr/local/lib/python3.7/dist-packages (from tensorboard->keras-tuner>=1.0.2->autokeras) (0.4.4)\n",
            "Requirement already satisfied: werkzeug>=0.11.15 in /usr/local/lib/python3.7/dist-packages (from tensorboard->keras-tuner>=1.0.2->autokeras) (1.0.1)\n",
            "Requirement already satisfied: markdown>=2.6.8 in /usr/local/lib/python3.7/dist-packages (from tensorboard->keras-tuner>=1.0.2->autokeras) (3.3.4)\n",
            "Requirement already satisfied: tensorboard-plugin-wit>=1.6.0 in /usr/local/lib/python3.7/dist-packages (from tensorboard->keras-tuner>=1.0.2->autokeras) (1.8.0)\n",
            "Requirement already satisfied: rsa<5,>=3.1.4 in /usr/local/lib/python3.7/dist-packages (from google-auth<2,>=1.6.3->tensorboard->keras-tuner>=1.0.2->autokeras) (4.7.2)\n",
            "Requirement already satisfied: pyasn1-modules>=0.2.1 in /usr/local/lib/python3.7/dist-packages (from google-auth<2,>=1.6.3->tensorboard->keras-tuner>=1.0.2->autokeras) (0.2.8)\n",
            "Requirement already satisfied: cachetools<5.0,>=2.0.0 in /usr/local/lib/python3.7/dist-packages (from google-auth<2,>=1.6.3->tensorboard->keras-tuner>=1.0.2->autokeras) (4.2.2)\n",
            "Requirement already satisfied: requests-oauthlib>=0.7.0 in /usr/local/lib/python3.7/dist-packages (from google-auth-oauthlib<0.5,>=0.4.1->tensorboard->keras-tuner>=1.0.2->autokeras) (1.3.0)\n",
            "Requirement already satisfied: importlib-metadata in /usr/local/lib/python3.7/dist-packages (from markdown>=2.6.8->tensorboard->keras-tuner>=1.0.2->autokeras) (4.6.1)\n",
            "Requirement already satisfied: pyasn1<0.5.0,>=0.4.6 in /usr/local/lib/python3.7/dist-packages (from pyasn1-modules>=0.2.1->google-auth<2,>=1.6.3->tensorboard->keras-tuner>=1.0.2->autokeras) (0.4.8)\n",
            "Requirement already satisfied: urllib3!=1.25.0,!=1.25.1,<1.26,>=1.21.1 in /usr/local/lib/python3.7/dist-packages (from requests->keras-tuner>=1.0.2->autokeras) (1.24.3)\n",
            "Requirement already satisfied: idna<3,>=2.5 in /usr/local/lib/python3.7/dist-packages (from requests->keras-tuner>=1.0.2->autokeras) (2.10)\n",
            "Requirement already satisfied: certifi>=2017.4.17 in /usr/local/lib/python3.7/dist-packages (from requests->keras-tuner>=1.0.2->autokeras) (2021.5.30)\n",
            "Requirement already satisfied: chardet<4,>=3.0.2 in /usr/local/lib/python3.7/dist-packages (from requests->keras-tuner>=1.0.2->autokeras) (3.0.4)\n",
            "Requirement already satisfied: oauthlib>=3.0.0 in /usr/local/lib/python3.7/dist-packages (from requests-oauthlib>=0.7.0->google-auth-oauthlib<0.5,>=0.4.1->tensorboard->keras-tuner>=1.0.2->autokeras) (3.1.1)\n",
            "Requirement already satisfied: zipp>=0.5 in /usr/local/lib/python3.7/dist-packages (from importlib-metadata->markdown>=2.6.8->tensorboard->keras-tuner>=1.0.2->autokeras) (3.5.0)\n",
            "Requirement already satisfied: prompt-toolkit<2.0.0,>=1.0.4 in /usr/local/lib/python3.7/dist-packages (from ipython->keras-tuner>=1.0.2->autokeras) (1.0.18)\n",
            "Requirement already satisfied: traitlets>=4.2 in /usr/local/lib/python3.7/dist-packages (from ipython->keras-tuner>=1.0.2->autokeras) (5.0.5)\n",
            "Requirement already satisfied: simplegeneric>0.8 in /usr/local/lib/python3.7/dist-packages (from ipython->keras-tuner>=1.0.2->autokeras) (0.8.1)\n",
            "Requirement already satisfied: pygments in /usr/local/lib/python3.7/dist-packages (from ipython->keras-tuner>=1.0.2->autokeras) (2.6.1)\n",
            "Requirement already satisfied: pexpect in /usr/local/lib/python3.7/dist-packages (from ipython->keras-tuner>=1.0.2->autokeras) (4.8.0)\n",
            "Requirement already satisfied: decorator in /usr/local/lib/python3.7/dist-packages (from ipython->keras-tuner>=1.0.2->autokeras) (4.4.2)\n",
            "Requirement already satisfied: pickleshare in /usr/local/lib/python3.7/dist-packages (from ipython->keras-tuner>=1.0.2->autokeras) (0.7.5)\n",
            "Requirement already satisfied: wcwidth in /usr/local/lib/python3.7/dist-packages (from prompt-toolkit<2.0.0,>=1.0.4->ipython->keras-tuner>=1.0.2->autokeras) (0.2.5)\n",
            "Requirement already satisfied: ipython-genutils in /usr/local/lib/python3.7/dist-packages (from traitlets>=4.2->ipython->keras-tuner>=1.0.2->autokeras) (0.2.0)\n",
            "Requirement already satisfied: pyparsing>=2.0.2 in /usr/local/lib/python3.7/dist-packages (from packaging->autokeras) (2.4.7)\n",
            "Requirement already satisfied: pytz>=2017.2 in /usr/local/lib/python3.7/dist-packages (from pandas->autokeras) (2018.9)\n",
            "Requirement already satisfied: python-dateutil>=2.7.3 in /usr/local/lib/python3.7/dist-packages (from pandas->autokeras) (2.8.1)\n",
            "Requirement already satisfied: ptyprocess>=0.5 in /usr/local/lib/python3.7/dist-packages (from pexpect->ipython->keras-tuner>=1.0.2->autokeras) (0.7.0)\n",
            "Requirement already satisfied: joblib>=0.11 in /usr/local/lib/python3.7/dist-packages (from scikit-learn->autokeras) (1.0.1)\n",
            "Building wheels for collected packages: kt-legacy\n",
            "  Building wheel for kt-legacy (setup.py) ... \u001b[?25l\u001b[?25hdone\n",
            "  Created wheel for kt-legacy: filename=kt_legacy-1.0.3-py3-none-any.whl size=9568 sha256=60a6324781991ec2b2a63b71fd769686627154628eb98beddc9ecc0944fa15d1\n",
            "  Stored in directory: /root/.cache/pip/wheels/38/5c/e0/13003e68c17f403af40b92a24d20171b95fef13b0fdaba833c\n",
            "Successfully built kt-legacy\n",
            "Installing collected packages: kt-legacy, keras-tuner, autokeras\n",
            "Successfully installed autokeras-1.0.15 keras-tuner-1.0.3 kt-legacy-1.0.3\n"
          ],
          "name": "stdout"
        }
      ]
    },
    {
      "cell_type": "code",
      "metadata": {
        "id": "TArvotvMZvRn"
      },
      "source": [
        "import pandas as pd\n",
        "import tensorflow as tf\n",
        "import numpy as np\n",
        "import autokeras as ak"
      ],
      "execution_count": 2,
      "outputs": []
    },
    {
      "cell_type": "code",
      "metadata": {
        "colab": {
          "base_uri": "https://localhost:8080/"
        },
        "id": "xPnge7JSZx5M",
        "outputId": "d3d2580e-d275-45b1-bb58-9b95e8e96f0e"
      },
      "source": [
        "# Mounting the drive\n",
        "from google.colab import drive\n",
        "drive.mount('/content/gdrive')"
      ],
      "execution_count": 3,
      "outputs": [
        {
          "output_type": "stream",
          "text": [
            "Mounted at /content/gdrive\n"
          ],
          "name": "stdout"
        }
      ]
    },
    {
      "cell_type": "code",
      "metadata": {
        "id": "r79W6vU6Z9lr"
      },
      "source": [
        "data = pd.read_csv(\"/content/gdrive/My Drive/Thesis/dataframe_flow_variable_60min.csv\")\n",
        "data['Unnamed: 0'] = pd.to_datetime(data['Unnamed: 0'])\n",
        "data.rename( columns={'Unnamed: 0':'Date_time','468':'DMA_468'}, inplace=True )\n",
        "data = data.replace(\",\", \".\", regex=True)"
      ],
      "execution_count": 4,
      "outputs": []
    },
    {
      "cell_type": "code",
      "metadata": {
        "id": "aaSfRYZ1aDCu"
      },
      "source": [
        "# Dataset preparation\n",
        "data_DMA225 = data[['Date_time','DMA_468','tempC','HeatIndexC','FeelsLikeC','WindChillC','windspeedKmph','sunHour','precipMM','humidity']]\n",
        "data_DMA225_indexed = data_DMA225.set_index('Date_time')\n",
        "# Making hourly data \n",
        "hourly_data = data_DMA225_indexed.resample('h').sum()\n",
        "split = int(len(hourly_data) * 0.7)\n",
        "trainset = hourly_data[:split]\n",
        "validationset = hourly_data[split:]\n",
        "testset = hourly_data[[\"tempC\",\"HeatIndexC\",\"FeelsLikeC\",\"WindChillC\",\"windspeedKmph\",\"sunHour\",\"precipMM\",\"humidity\"]]\n",
        "X_train = trainset[[\"tempC\",\"HeatIndexC\",\"FeelsLikeC\",\"WindChillC\",\"windspeedKmph\",\"sunHour\",\"precipMM\",\"humidity\"]]\n",
        "valid_X = validationset[['tempC','HeatIndexC','FeelsLikeC','WindChillC','windspeedKmph','sunHour','precipMM','humidity']]\n",
        "y_train = trainset[\"DMA_468\"]\n",
        "valid_y = validationset[\"DMA_468\"]"
      ],
      "execution_count": 5,
      "outputs": []
    },
    {
      "cell_type": "code",
      "metadata": {
        "colab": {
          "base_uri": "https://localhost:8080/"
        },
        "id": "hRyCI5t9aKkD",
        "outputId": "28b5c009-87b9-47fe-8d21-cd763f2b674b"
      },
      "source": [
        "# Creating autokeras model:\n",
        "model = ak.TimeseriesForecaster(\n",
        "    predict_from=1,\n",
        "    lookback=12,\n",
        "    max_trials=1,\n",
        "    loss='mse', optimizer='adam',\n",
        "    objective=\"val_loss\",\n",
        ")\n",
        "\n",
        "history = model.fit(X_train,y_train,batch_size=100,epochs = 100,validation_data=(valid_X, valid_y))"
      ],
      "execution_count": 6,
      "outputs": [
        {
          "output_type": "stream",
          "text": [
            "Trial 1 Complete [00h 00m 33s]\n",
            "val_loss: 0.13597695529460907\n",
            "\n",
            "Best val_loss So Far: 0.13597695529460907\n",
            "Total elapsed time: 00h 00m 33s\n",
            "INFO:tensorflow:Oracle triggered exit\n",
            "Epoch 1/100\n",
            "16/16 [==============================] - 8s 130ms/step - loss: 0.2889 - val_loss: 0.2279\n",
            "Epoch 2/100\n",
            "16/16 [==============================] - 1s 32ms/step - loss: 0.2240 - val_loss: 0.2136\n",
            "Epoch 3/100\n",
            "16/16 [==============================] - 1s 32ms/step - loss: 0.2075 - val_loss: 0.2102\n",
            "Epoch 4/100\n",
            "16/16 [==============================] - 1s 32ms/step - loss: 0.1966 - val_loss: 0.2060\n",
            "Epoch 5/100\n",
            "16/16 [==============================] - 1s 33ms/step - loss: 0.1885 - val_loss: 0.2015\n",
            "Epoch 6/100\n",
            "16/16 [==============================] - 1s 33ms/step - loss: 0.1818 - val_loss: 0.1973\n",
            "Epoch 7/100\n",
            "16/16 [==============================] - 0s 31ms/step - loss: 0.1748 - val_loss: 0.1916\n",
            "Epoch 8/100\n",
            "16/16 [==============================] - 0s 31ms/step - loss: 0.1664 - val_loss: 0.1857\n",
            "Epoch 9/100\n",
            "16/16 [==============================] - 1s 32ms/step - loss: 0.1572 - val_loss: 0.1858\n",
            "Epoch 10/100\n",
            "16/16 [==============================] - 1s 32ms/step - loss: 0.1490 - val_loss: 0.1889\n",
            "Epoch 11/100\n",
            "16/16 [==============================] - 1s 31ms/step - loss: 0.1422 - val_loss: 0.1889\n",
            "Epoch 12/100\n",
            "16/16 [==============================] - 1s 32ms/step - loss: 0.1368 - val_loss: 0.1868\n",
            "Epoch 13/100\n",
            "16/16 [==============================] - 1s 32ms/step - loss: 0.1327 - val_loss: 0.1850\n",
            "Epoch 14/100\n",
            "16/16 [==============================] - 0s 32ms/step - loss: 0.1291 - val_loss: 0.1834\n",
            "Epoch 15/100\n",
            "16/16 [==============================] - 1s 32ms/step - loss: 0.1259 - val_loss: 0.1820\n",
            "Epoch 16/100\n",
            "16/16 [==============================] - 1s 32ms/step - loss: 0.1232 - val_loss: 0.1811\n",
            "Epoch 17/100\n",
            "16/16 [==============================] - 0s 31ms/step - loss: 0.1208 - val_loss: 0.1801\n",
            "Epoch 18/100\n",
            "16/16 [==============================] - 1s 32ms/step - loss: 0.1188 - val_loss: 0.1802\n",
            "Epoch 19/100\n",
            "16/16 [==============================] - 1s 34ms/step - loss: 0.1170 - val_loss: 0.1798\n",
            "Epoch 20/100\n",
            "16/16 [==============================] - 1s 32ms/step - loss: 0.1153 - val_loss: 0.1790\n",
            "Epoch 21/100\n",
            "16/16 [==============================] - 1s 33ms/step - loss: 0.1136 - val_loss: 0.1795\n",
            "Epoch 22/100\n",
            "16/16 [==============================] - 1s 33ms/step - loss: 0.1122 - val_loss: 0.1792\n",
            "Epoch 23/100\n",
            "16/16 [==============================] - 1s 32ms/step - loss: 0.1105 - val_loss: 0.1787\n",
            "Epoch 24/100\n",
            "16/16 [==============================] - 1s 33ms/step - loss: 0.1089 - val_loss: 0.1790\n",
            "Epoch 25/100\n",
            "16/16 [==============================] - 1s 32ms/step - loss: 0.1076 - val_loss: 0.1792\n",
            "Epoch 26/100\n",
            "16/16 [==============================] - 0s 32ms/step - loss: 0.1061 - val_loss: 0.1787\n",
            "Epoch 27/100\n",
            "16/16 [==============================] - 0s 31ms/step - loss: 0.1044 - val_loss: 0.1787\n",
            "Epoch 28/100\n",
            "16/16 [==============================] - 1s 32ms/step - loss: 0.1030 - val_loss: 0.1792\n",
            "Epoch 29/100\n",
            "16/16 [==============================] - 0s 30ms/step - loss: 0.1016 - val_loss: 0.1790\n",
            "Epoch 30/100\n",
            "16/16 [==============================] - 0s 31ms/step - loss: 0.1000 - val_loss: 0.1787\n",
            "Epoch 31/100\n",
            "16/16 [==============================] - 1s 33ms/step - loss: 0.0985 - val_loss: 0.1791\n",
            "Epoch 32/100\n",
            "16/16 [==============================] - 1s 32ms/step - loss: 0.0973 - val_loss: 0.1795\n",
            "Epoch 33/100\n",
            "16/16 [==============================] - 0s 32ms/step - loss: 0.0959 - val_loss: 0.1791\n",
            "Epoch 34/100\n",
            "16/16 [==============================] - 0s 31ms/step - loss: 0.0945 - val_loss: 0.1791\n",
            "Epoch 35/100\n",
            "16/16 [==============================] - 0s 30ms/step - loss: 0.0932 - val_loss: 0.1795\n",
            "Epoch 36/100\n",
            "16/16 [==============================] - 1s 32ms/step - loss: 0.0921 - val_loss: 0.1794\n",
            "Epoch 37/100\n",
            "16/16 [==============================] - 0s 31ms/step - loss: 0.0908 - val_loss: 0.1788\n",
            "Epoch 38/100\n",
            "16/16 [==============================] - 1s 32ms/step - loss: 0.0895 - val_loss: 0.1786\n",
            "Epoch 39/100\n",
            "16/16 [==============================] - 1s 33ms/step - loss: 0.0883 - val_loss: 0.1787\n",
            "Epoch 40/100\n",
            "16/16 [==============================] - 1s 32ms/step - loss: 0.0872 - val_loss: 0.1783\n",
            "Epoch 41/100\n",
            "16/16 [==============================] - 1s 32ms/step - loss: 0.0860 - val_loss: 0.1777\n",
            "Epoch 42/100\n",
            "16/16 [==============================] - 0s 32ms/step - loss: 0.0848 - val_loss: 0.1774\n",
            "Epoch 43/100\n",
            "16/16 [==============================] - 1s 32ms/step - loss: 0.0838 - val_loss: 0.1774\n",
            "Epoch 44/100\n",
            "16/16 [==============================] - 0s 31ms/step - loss: 0.0827 - val_loss: 0.1773\n",
            "Epoch 45/100\n",
            "16/16 [==============================] - 1s 32ms/step - loss: 0.0817 - val_loss: 0.1769\n",
            "Epoch 46/100\n",
            "16/16 [==============================] - 1s 32ms/step - loss: 0.0806 - val_loss: 0.1767\n",
            "Epoch 47/100\n",
            "16/16 [==============================] - 0s 31ms/step - loss: 0.0795 - val_loss: 0.1767\n",
            "Epoch 48/100\n",
            "16/16 [==============================] - 1s 32ms/step - loss: 0.0785 - val_loss: 0.1769\n",
            "Epoch 49/100\n",
            "16/16 [==============================] - 0s 31ms/step - loss: 0.0775 - val_loss: 0.1768\n",
            "Epoch 50/100\n",
            "16/16 [==============================] - 1s 32ms/step - loss: 0.0765 - val_loss: 0.1770\n",
            "Epoch 51/100\n",
            "16/16 [==============================] - 0s 32ms/step - loss: 0.0754 - val_loss: 0.1767\n",
            "Epoch 52/100\n",
            "16/16 [==============================] - 1s 32ms/step - loss: 0.0744 - val_loss: 0.1770\n",
            "Epoch 53/100\n",
            "16/16 [==============================] - 0s 32ms/step - loss: 0.0735 - val_loss: 0.1770\n",
            "Epoch 54/100\n",
            "16/16 [==============================] - 0s 32ms/step - loss: 0.0727 - val_loss: 0.1773\n",
            "Epoch 55/100\n",
            "16/16 [==============================] - 1s 32ms/step - loss: 0.0718 - val_loss: 0.1770\n",
            "Epoch 56/100\n",
            "16/16 [==============================] - 0s 32ms/step - loss: 0.0708 - val_loss: 0.1771\n",
            "Epoch 57/100\n",
            "16/16 [==============================] - 0s 31ms/step - loss: 0.0699 - val_loss: 0.1770\n",
            "Epoch 58/100\n",
            "16/16 [==============================] - 0s 31ms/step - loss: 0.0690 - val_loss: 0.1773\n",
            "Epoch 59/100\n",
            "16/16 [==============================] - 0s 31ms/step - loss: 0.0682 - val_loss: 0.1774\n",
            "Epoch 60/100\n",
            "16/16 [==============================] - 1s 32ms/step - loss: 0.0674 - val_loss: 0.1776\n",
            "Epoch 61/100\n",
            "16/16 [==============================] - 0s 31ms/step - loss: 0.0667 - val_loss: 0.1780\n",
            "Epoch 62/100\n",
            "16/16 [==============================] - 0s 31ms/step - loss: 0.0656 - val_loss: 0.1779\n",
            "Epoch 63/100\n",
            "16/16 [==============================] - 1s 32ms/step - loss: 0.0647 - val_loss: 0.1781\n",
            "Epoch 64/100\n",
            "16/16 [==============================] - 0s 32ms/step - loss: 0.0641 - val_loss: 0.1781\n",
            "Epoch 65/100\n",
            "16/16 [==============================] - 1s 32ms/step - loss: 0.0630 - val_loss: 0.1788\n",
            "Epoch 66/100\n",
            "16/16 [==============================] - 0s 31ms/step - loss: 0.0624 - val_loss: 0.1799\n",
            "Epoch 67/100\n",
            "16/16 [==============================] - 1s 32ms/step - loss: 0.0621 - val_loss: 0.1787\n",
            "Epoch 68/100\n",
            "16/16 [==============================] - 1s 32ms/step - loss: 0.0617 - val_loss: 0.1811\n",
            "Epoch 69/100\n",
            "16/16 [==============================] - 1s 33ms/step - loss: 0.0614 - val_loss: 0.1820\n",
            "Epoch 70/100\n",
            "16/16 [==============================] - 1s 32ms/step - loss: 0.0609 - val_loss: 0.1843\n",
            "Epoch 71/100\n",
            "16/16 [==============================] - 0s 31ms/step - loss: 0.0599 - val_loss: 0.1819\n",
            "Epoch 72/100\n",
            "16/16 [==============================] - 1s 33ms/step - loss: 0.0593 - val_loss: 0.1816\n",
            "Epoch 73/100\n",
            "16/16 [==============================] - 1s 33ms/step - loss: 0.0588 - val_loss: 0.1861\n",
            "Epoch 74/100\n",
            "16/16 [==============================] - 0s 31ms/step - loss: 0.0584 - val_loss: 0.1868\n",
            "Epoch 75/100\n",
            "16/16 [==============================] - 0s 31ms/step - loss: 0.0600 - val_loss: 0.1798\n",
            "Epoch 76/100\n",
            "16/16 [==============================] - 1s 32ms/step - loss: 0.0621 - val_loss: 0.1861\n",
            "Epoch 77/100\n",
            "16/16 [==============================] - 1s 32ms/step - loss: 0.0643 - val_loss: 0.1926\n",
            "Epoch 78/100\n",
            "16/16 [==============================] - 0s 31ms/step - loss: 0.0654 - val_loss: 0.1830\n",
            "Epoch 79/100\n",
            "16/16 [==============================] - 0s 31ms/step - loss: 0.0625 - val_loss: 0.1860\n",
            "Epoch 80/100\n",
            "16/16 [==============================] - 1s 33ms/step - loss: 0.0649 - val_loss: 0.1957\n",
            "Epoch 81/100\n",
            "16/16 [==============================] - 1s 32ms/step - loss: 0.0642 - val_loss: 0.1866\n",
            "Epoch 82/100\n",
            "16/16 [==============================] - 1s 32ms/step - loss: 0.0660 - val_loss: 0.1904\n",
            "Epoch 83/100\n",
            "16/16 [==============================] - 0s 30ms/step - loss: 0.0625 - val_loss: 0.1780\n",
            "Epoch 84/100\n",
            "16/16 [==============================] - 1s 33ms/step - loss: 0.0581 - val_loss: 0.1888\n",
            "Epoch 85/100\n",
            "16/16 [==============================] - 1s 32ms/step - loss: 0.0572 - val_loss: 0.1814\n",
            "Epoch 86/100\n",
            "16/16 [==============================] - 1s 34ms/step - loss: 0.0569 - val_loss: 0.1883\n",
            "Epoch 87/100\n",
            "16/16 [==============================] - 0s 31ms/step - loss: 0.0580 - val_loss: 0.1791\n",
            "Epoch 88/100\n",
            "16/16 [==============================] - 1s 32ms/step - loss: 0.0544 - val_loss: 0.1820\n",
            "Epoch 89/100\n",
            "16/16 [==============================] - 1s 32ms/step - loss: 0.0536 - val_loss: 0.1819\n",
            "Epoch 90/100\n",
            "16/16 [==============================] - 0s 31ms/step - loss: 0.0532 - val_loss: 0.1817\n",
            "Epoch 91/100\n",
            "16/16 [==============================] - 0s 31ms/step - loss: 0.0535 - val_loss: 0.1794\n",
            "Epoch 92/100\n",
            "16/16 [==============================] - 1s 32ms/step - loss: 0.0521 - val_loss: 0.1820\n",
            "Epoch 93/100\n",
            "16/16 [==============================] - 0s 31ms/step - loss: 0.0503 - val_loss: 0.1828\n",
            "Epoch 94/100\n",
            "16/16 [==============================] - 0s 31ms/step - loss: 0.0505 - val_loss: 0.1799\n",
            "Epoch 95/100\n",
            "16/16 [==============================] - 0s 31ms/step - loss: 0.0504 - val_loss: 0.1842\n",
            "Epoch 96/100\n",
            "16/16 [==============================] - 1s 32ms/step - loss: 0.0504 - val_loss: 0.1776\n",
            "Epoch 97/100\n",
            "16/16 [==============================] - 0s 31ms/step - loss: 0.0492 - val_loss: 0.1834\n",
            "Epoch 98/100\n",
            "16/16 [==============================] - 0s 31ms/step - loss: 0.0487 - val_loss: 0.1812\n",
            "Epoch 99/100\n",
            "16/16 [==============================] - 1s 33ms/step - loss: 0.0501 - val_loss: 0.1823\n",
            "Epoch 100/100\n",
            "16/16 [==============================] - 0s 31ms/step - loss: 0.0508 - val_loss: 0.1792\n"
          ],
          "name": "stdout"
        },
        {
          "output_type": "stream",
          "text": [
            "WARNING:absl:Found untraced functions such as lstm_cell_1_layer_call_fn, lstm_cell_1_layer_call_and_return_conditional_losses, lstm_cell_2_layer_call_fn, lstm_cell_2_layer_call_and_return_conditional_losses, lstm_cell_4_layer_call_fn while saving (showing 5 of 20). These functions will not be directly callable after loading.\n"
          ],
          "name": "stderr"
        },
        {
          "output_type": "stream",
          "text": [
            "INFO:tensorflow:Assets written to: ./time_series_forecaster/best_model/assets\n"
          ],
          "name": "stdout"
        },
        {
          "output_type": "stream",
          "text": [
            "INFO:tensorflow:Assets written to: ./time_series_forecaster/best_model/assets\n"
          ],
          "name": "stderr"
        }
      ]
    },
    {
      "cell_type": "code",
      "metadata": {
        "colab": {
          "base_uri": "https://localhost:8080/"
        },
        "id": "0qlhZZAFawKX",
        "outputId": "064bf59b-f085-429a-a167-8176771d4907"
      },
      "source": [
        "# Predicting on test set:\n",
        "test_pred = model.predict(testset)\n",
        "print(test_pred.shape)"
      ],
      "execution_count": 7,
      "outputs": [
        {
          "output_type": "stream",
          "text": [
            "22/22 [==============================] - 0s 18ms/step\n",
            "(651, 1)\n"
          ],
          "name": "stdout"
        }
      ]
    },
    {
      "cell_type": "markdown",
      "metadata": {
        "id": "ua0vzMupa2Bq"
      },
      "source": [
        "Autokeras is mainly used for mutlivaraite time series analysis. Here the validation loss is greater than train set loss. So it proves auto keras isnt advisble for time series prediction."
      ]
    },
    {
      "cell_type": "code",
      "metadata": {
        "id": "GCIhihkCa2vQ"
      },
      "source": [
        ""
      ],
      "execution_count": null,
      "outputs": []
    }
  ]
}