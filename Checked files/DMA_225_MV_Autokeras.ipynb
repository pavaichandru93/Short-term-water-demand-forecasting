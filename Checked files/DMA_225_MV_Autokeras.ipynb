{
  "nbformat": 4,
  "nbformat_minor": 0,
  "metadata": {
    "colab": {
      "name": "DMA_225_MV_Autokeras.ipynb",
      "provenance": [],
      "collapsed_sections": []
    },
    "kernelspec": {
      "name": "python3",
      "display_name": "Python 3"
    },
    "language_info": {
      "name": "python"
    }
  },
  "cells": [
    {
      "cell_type": "code",
      "metadata": {
        "colab": {
          "base_uri": "https://localhost:8080/"
        },
        "id": "zDyDKsmfSEI3",
        "outputId": "ae523f8d-cc6b-4035-e8f4-69bdca9d9c6a"
      },
      "source": [
        "!pip install autokeras"
      ],
      "execution_count": 1,
      "outputs": [
        {
          "output_type": "stream",
          "text": [
            "Requirement already satisfied: autokeras in /usr/local/lib/python3.7/dist-packages (1.0.15)\n",
            "Requirement already satisfied: scikit-learn in /usr/local/lib/python3.7/dist-packages (from autokeras) (0.22.2.post1)\n",
            "Requirement already satisfied: packaging in /usr/local/lib/python3.7/dist-packages (from autokeras) (21.0)\n",
            "Requirement already satisfied: pandas in /usr/local/lib/python3.7/dist-packages (from autokeras) (1.1.5)\n",
            "Requirement already satisfied: tensorflow>=2.3.0 in /usr/local/lib/python3.7/dist-packages (from autokeras) (2.5.0)\n",
            "Requirement already satisfied: keras-tuner>=1.0.2 in /usr/local/lib/python3.7/dist-packages (from autokeras) (1.0.3)\n",
            "Requirement already satisfied: requests in /usr/local/lib/python3.7/dist-packages (from keras-tuner>=1.0.2->autokeras) (2.23.0)\n",
            "Requirement already satisfied: ipython in /usr/local/lib/python3.7/dist-packages (from keras-tuner>=1.0.2->autokeras) (5.5.0)\n",
            "Requirement already satisfied: scipy in /usr/local/lib/python3.7/dist-packages (from keras-tuner>=1.0.2->autokeras) (1.4.1)\n",
            "Requirement already satisfied: tensorboard in /usr/local/lib/python3.7/dist-packages (from keras-tuner>=1.0.2->autokeras) (2.5.0)\n",
            "Requirement already satisfied: numpy in /usr/local/lib/python3.7/dist-packages (from keras-tuner>=1.0.2->autokeras) (1.19.5)\n",
            "Requirement already satisfied: kt-legacy in /usr/local/lib/python3.7/dist-packages (from keras-tuner>=1.0.2->autokeras) (1.0.3)\n",
            "Requirement already satisfied: keras-preprocessing~=1.1.2 in /usr/local/lib/python3.7/dist-packages (from tensorflow>=2.3.0->autokeras) (1.1.2)\n",
            "Requirement already satisfied: termcolor~=1.1.0 in /usr/local/lib/python3.7/dist-packages (from tensorflow>=2.3.0->autokeras) (1.1.0)\n",
            "Requirement already satisfied: wrapt~=1.12.1 in /usr/local/lib/python3.7/dist-packages (from tensorflow>=2.3.0->autokeras) (1.12.1)\n",
            "Requirement already satisfied: google-pasta~=0.2 in /usr/local/lib/python3.7/dist-packages (from tensorflow>=2.3.0->autokeras) (0.2.0)\n",
            "Requirement already satisfied: protobuf>=3.9.2 in /usr/local/lib/python3.7/dist-packages (from tensorflow>=2.3.0->autokeras) (3.17.3)\n",
            "Requirement already satisfied: grpcio~=1.34.0 in /usr/local/lib/python3.7/dist-packages (from tensorflow>=2.3.0->autokeras) (1.34.1)\n",
            "Requirement already satisfied: six~=1.15.0 in /usr/local/lib/python3.7/dist-packages (from tensorflow>=2.3.0->autokeras) (1.15.0)\n",
            "Requirement already satisfied: h5py~=3.1.0 in /usr/local/lib/python3.7/dist-packages (from tensorflow>=2.3.0->autokeras) (3.1.0)\n",
            "Requirement already satisfied: astunparse~=1.6.3 in /usr/local/lib/python3.7/dist-packages (from tensorflow>=2.3.0->autokeras) (1.6.3)\n",
            "Requirement already satisfied: opt-einsum~=3.3.0 in /usr/local/lib/python3.7/dist-packages (from tensorflow>=2.3.0->autokeras) (3.3.0)\n",
            "Requirement already satisfied: absl-py~=0.10 in /usr/local/lib/python3.7/dist-packages (from tensorflow>=2.3.0->autokeras) (0.12.0)\n",
            "Requirement already satisfied: tensorflow-estimator<2.6.0,>=2.5.0rc0 in /usr/local/lib/python3.7/dist-packages (from tensorflow>=2.3.0->autokeras) (2.5.0)\n",
            "Requirement already satisfied: wheel~=0.35 in /usr/local/lib/python3.7/dist-packages (from tensorflow>=2.3.0->autokeras) (0.36.2)\n",
            "Requirement already satisfied: flatbuffers~=1.12.0 in /usr/local/lib/python3.7/dist-packages (from tensorflow>=2.3.0->autokeras) (1.12)\n",
            "Requirement already satisfied: keras-nightly~=2.5.0.dev in /usr/local/lib/python3.7/dist-packages (from tensorflow>=2.3.0->autokeras) (2.5.0.dev2021032900)\n",
            "Requirement already satisfied: gast==0.4.0 in /usr/local/lib/python3.7/dist-packages (from tensorflow>=2.3.0->autokeras) (0.4.0)\n",
            "Requirement already satisfied: typing-extensions~=3.7.4 in /usr/local/lib/python3.7/dist-packages (from tensorflow>=2.3.0->autokeras) (3.7.4.3)\n",
            "Requirement already satisfied: cached-property in /usr/local/lib/python3.7/dist-packages (from h5py~=3.1.0->tensorflow>=2.3.0->autokeras) (1.5.2)\n",
            "Requirement already satisfied: google-auth<2,>=1.6.3 in /usr/local/lib/python3.7/dist-packages (from tensorboard->keras-tuner>=1.0.2->autokeras) (1.32.1)\n",
            "Requirement already satisfied: tensorboard-data-server<0.7.0,>=0.6.0 in /usr/local/lib/python3.7/dist-packages (from tensorboard->keras-tuner>=1.0.2->autokeras) (0.6.1)\n",
            "Requirement already satisfied: google-auth-oauthlib<0.5,>=0.4.1 in /usr/local/lib/python3.7/dist-packages (from tensorboard->keras-tuner>=1.0.2->autokeras) (0.4.4)\n",
            "Requirement already satisfied: werkzeug>=0.11.15 in /usr/local/lib/python3.7/dist-packages (from tensorboard->keras-tuner>=1.0.2->autokeras) (1.0.1)\n",
            "Requirement already satisfied: tensorboard-plugin-wit>=1.6.0 in /usr/local/lib/python3.7/dist-packages (from tensorboard->keras-tuner>=1.0.2->autokeras) (1.8.0)\n",
            "Requirement already satisfied: markdown>=2.6.8 in /usr/local/lib/python3.7/dist-packages (from tensorboard->keras-tuner>=1.0.2->autokeras) (3.3.4)\n",
            "Requirement already satisfied: setuptools>=41.0.0 in /usr/local/lib/python3.7/dist-packages (from tensorboard->keras-tuner>=1.0.2->autokeras) (57.2.0)\n",
            "Requirement already satisfied: pyasn1-modules>=0.2.1 in /usr/local/lib/python3.7/dist-packages (from google-auth<2,>=1.6.3->tensorboard->keras-tuner>=1.0.2->autokeras) (0.2.8)\n",
            "Requirement already satisfied: cachetools<5.0,>=2.0.0 in /usr/local/lib/python3.7/dist-packages (from google-auth<2,>=1.6.3->tensorboard->keras-tuner>=1.0.2->autokeras) (4.2.2)\n",
            "Requirement already satisfied: rsa<5,>=3.1.4 in /usr/local/lib/python3.7/dist-packages (from google-auth<2,>=1.6.3->tensorboard->keras-tuner>=1.0.2->autokeras) (4.7.2)\n",
            "Requirement already satisfied: requests-oauthlib>=0.7.0 in /usr/local/lib/python3.7/dist-packages (from google-auth-oauthlib<0.5,>=0.4.1->tensorboard->keras-tuner>=1.0.2->autokeras) (1.3.0)\n",
            "Requirement already satisfied: importlib-metadata in /usr/local/lib/python3.7/dist-packages (from markdown>=2.6.8->tensorboard->keras-tuner>=1.0.2->autokeras) (4.6.1)\n",
            "Requirement already satisfied: pyasn1<0.5.0,>=0.4.6 in /usr/local/lib/python3.7/dist-packages (from pyasn1-modules>=0.2.1->google-auth<2,>=1.6.3->tensorboard->keras-tuner>=1.0.2->autokeras) (0.4.8)\n",
            "Requirement already satisfied: idna<3,>=2.5 in /usr/local/lib/python3.7/dist-packages (from requests->keras-tuner>=1.0.2->autokeras) (2.10)\n",
            "Requirement already satisfied: urllib3!=1.25.0,!=1.25.1,<1.26,>=1.21.1 in /usr/local/lib/python3.7/dist-packages (from requests->keras-tuner>=1.0.2->autokeras) (1.24.3)\n",
            "Requirement already satisfied: chardet<4,>=3.0.2 in /usr/local/lib/python3.7/dist-packages (from requests->keras-tuner>=1.0.2->autokeras) (3.0.4)\n",
            "Requirement already satisfied: certifi>=2017.4.17 in /usr/local/lib/python3.7/dist-packages (from requests->keras-tuner>=1.0.2->autokeras) (2021.5.30)\n",
            "Requirement already satisfied: oauthlib>=3.0.0 in /usr/local/lib/python3.7/dist-packages (from requests-oauthlib>=0.7.0->google-auth-oauthlib<0.5,>=0.4.1->tensorboard->keras-tuner>=1.0.2->autokeras) (3.1.1)\n",
            "Requirement already satisfied: zipp>=0.5 in /usr/local/lib/python3.7/dist-packages (from importlib-metadata->markdown>=2.6.8->tensorboard->keras-tuner>=1.0.2->autokeras) (3.5.0)\n",
            "Requirement already satisfied: simplegeneric>0.8 in /usr/local/lib/python3.7/dist-packages (from ipython->keras-tuner>=1.0.2->autokeras) (0.8.1)\n",
            "Requirement already satisfied: decorator in /usr/local/lib/python3.7/dist-packages (from ipython->keras-tuner>=1.0.2->autokeras) (4.4.2)\n",
            "Requirement already satisfied: prompt-toolkit<2.0.0,>=1.0.4 in /usr/local/lib/python3.7/dist-packages (from ipython->keras-tuner>=1.0.2->autokeras) (1.0.18)\n",
            "Requirement already satisfied: pygments in /usr/local/lib/python3.7/dist-packages (from ipython->keras-tuner>=1.0.2->autokeras) (2.6.1)\n",
            "Requirement already satisfied: pexpect in /usr/local/lib/python3.7/dist-packages (from ipython->keras-tuner>=1.0.2->autokeras) (4.8.0)\n",
            "Requirement already satisfied: traitlets>=4.2 in /usr/local/lib/python3.7/dist-packages (from ipython->keras-tuner>=1.0.2->autokeras) (5.0.5)\n",
            "Requirement already satisfied: pickleshare in /usr/local/lib/python3.7/dist-packages (from ipython->keras-tuner>=1.0.2->autokeras) (0.7.5)\n",
            "Requirement already satisfied: wcwidth in /usr/local/lib/python3.7/dist-packages (from prompt-toolkit<2.0.0,>=1.0.4->ipython->keras-tuner>=1.0.2->autokeras) (0.2.5)\n",
            "Requirement already satisfied: ipython-genutils in /usr/local/lib/python3.7/dist-packages (from traitlets>=4.2->ipython->keras-tuner>=1.0.2->autokeras) (0.2.0)\n",
            "Requirement already satisfied: pyparsing>=2.0.2 in /usr/local/lib/python3.7/dist-packages (from packaging->autokeras) (2.4.7)\n",
            "Requirement already satisfied: pytz>=2017.2 in /usr/local/lib/python3.7/dist-packages (from pandas->autokeras) (2018.9)\n",
            "Requirement already satisfied: python-dateutil>=2.7.3 in /usr/local/lib/python3.7/dist-packages (from pandas->autokeras) (2.8.1)\n",
            "Requirement already satisfied: ptyprocess>=0.5 in /usr/local/lib/python3.7/dist-packages (from pexpect->ipython->keras-tuner>=1.0.2->autokeras) (0.7.0)\n",
            "Requirement already satisfied: joblib>=0.11 in /usr/local/lib/python3.7/dist-packages (from scikit-learn->autokeras) (1.0.1)\n"
          ],
          "name": "stdout"
        }
      ]
    },
    {
      "cell_type": "code",
      "metadata": {
        "id": "rQGJlVJ8SLBw"
      },
      "source": [
        "import pandas as pd\n",
        "import tensorflow as tf\n",
        "import numpy as np\n",
        "import autokeras as ak\n"
      ],
      "execution_count": 2,
      "outputs": []
    },
    {
      "cell_type": "code",
      "metadata": {
        "colab": {
          "base_uri": "https://localhost:8080/"
        },
        "id": "9Z_H1LULSQqi",
        "outputId": "65e8de6a-319a-4f99-dd7d-1c2e4de318ef"
      },
      "source": [
        "# Mounting the drive\n",
        "from google.colab import drive\n",
        "drive.mount('/content/gdrive')"
      ],
      "execution_count": 3,
      "outputs": [
        {
          "output_type": "stream",
          "text": [
            "Drive already mounted at /content/gdrive; to attempt to forcibly remount, call drive.mount(\"/content/gdrive\", force_remount=True).\n"
          ],
          "name": "stdout"
        }
      ]
    },
    {
      "cell_type": "code",
      "metadata": {
        "id": "4gBYf2RuSg0n"
      },
      "source": [
        "data = pd.read_csv(\"/content/gdrive/My Drive/Thesis/dataframe_flow_variable_60min.csv\")\n",
        "data['Unnamed: 0'] = pd.to_datetime(data['Unnamed: 0'])\n",
        "data.rename( columns={'Unnamed: 0':'Date_time','225':'DMA_225'}, inplace=True )\n",
        "data = data.replace(\",\", \".\", regex=True)"
      ],
      "execution_count": 4,
      "outputs": []
    },
    {
      "cell_type": "code",
      "metadata": {
        "id": "BYc5s56KShlO"
      },
      "source": [
        "# Dataset preparation\n",
        "data_DMA225 = data[['Date_time','DMA_225','tempC','HeatIndexC','FeelsLikeC','WindChillC','windspeedKmph','sunHour','precipMM','humidity']]\n",
        "data_DMA225_indexed = data_DMA225.set_index('Date_time')\n",
        "# Making hourly data \n",
        "hourly_data = data_DMA225_indexed.resample('h').sum()\n",
        "split = int(len(hourly_data) * 0.7)\n",
        "trainset = hourly_data[:split]\n",
        "validationset = hourly_data[split:]\n",
        "testset = hourly_data[[\"tempC\",\"HeatIndexC\",\"FeelsLikeC\",\"WindChillC\",\"windspeedKmph\",\"sunHour\",\"precipMM\",\"humidity\"]]\n",
        "X_train = trainset[[\"tempC\",\"HeatIndexC\",\"FeelsLikeC\",\"WindChillC\",\"windspeedKmph\",\"sunHour\",\"precipMM\",\"humidity\"]]\n",
        "valid_X = validationset[['tempC','HeatIndexC','FeelsLikeC','WindChillC','windspeedKmph','sunHour','precipMM','humidity']]\n",
        "y_train = trainset[\"DMA_225\"]\n",
        "valid_y = validationset[\"DMA_225\"]\n",
        "  "
      ],
      "execution_count": 5,
      "outputs": []
    },
    {
      "cell_type": "code",
      "metadata": {
        "colab": {
          "base_uri": "https://localhost:8080/"
        },
        "id": "0Lutp_U6T1zf",
        "outputId": "ec528fa2-b7dc-4458-c6af-91202f96f406"
      },
      "source": [
        "# Creating autokeras model:\n",
        "model = ak.TimeseriesForecaster(\n",
        "    predict_from=1,\n",
        "    lookback=12,\n",
        "    max_trials=1,\n",
        "    loss='mse', optimizer='adam',\n",
        "    objective=\"val_loss\",\n",
        ")\n",
        "\n",
        "history = model.fit(X_train,y_train,batch_size=100,epochs = 100,validation_data=(valid_X, valid_y))"
      ],
      "execution_count": 7,
      "outputs": [
        {
          "output_type": "stream",
          "text": [
            "INFO:tensorflow:Reloading Oracle from existing project ./time_series_forecaster/oracle.json\n",
            "INFO:tensorflow:Reloading Tuner from ./time_series_forecaster/tuner0.json\n",
            "INFO:tensorflow:Oracle triggered exit\n",
            "Epoch 1/100\n",
            "16/16 [==============================] - 8s 132ms/step - loss: 13.5502 - val_loss: 12.5569\n",
            "Epoch 2/100\n",
            "16/16 [==============================] - 0s 31ms/step - loss: 10.5010 - val_loss: 8.7896\n",
            "Epoch 3/100\n",
            "16/16 [==============================] - 0s 31ms/step - loss: 6.9303 - val_loss: 4.9372\n",
            "Epoch 4/100\n",
            "16/16 [==============================] - 1s 34ms/step - loss: 4.2265 - val_loss: 3.1786\n",
            "Epoch 5/100\n",
            "16/16 [==============================] - 1s 33ms/step - loss: 3.0452 - val_loss: 2.6502\n",
            "Epoch 6/100\n",
            "16/16 [==============================] - 1s 34ms/step - loss: 2.6995 - val_loss: 2.5141\n",
            "Epoch 7/100\n",
            "16/16 [==============================] - 0s 31ms/step - loss: 2.6126 - val_loss: 2.4711\n",
            "Epoch 8/100\n",
            "16/16 [==============================] - 1s 34ms/step - loss: 2.5695 - val_loss: 2.4395\n",
            "Epoch 9/100\n",
            "16/16 [==============================] - 0s 31ms/step - loss: 2.5253 - val_loss: 2.4056\n",
            "Epoch 10/100\n",
            "16/16 [==============================] - 1s 32ms/step - loss: 2.4756 - val_loss: 2.3643\n",
            "Epoch 11/100\n",
            "16/16 [==============================] - 0s 31ms/step - loss: 2.4185 - val_loss: 2.3154\n",
            "Epoch 12/100\n",
            "16/16 [==============================] - 0s 31ms/step - loss: 2.3539 - val_loss: 2.2604\n",
            "Epoch 13/100\n",
            "16/16 [==============================] - 1s 32ms/step - loss: 2.2828 - val_loss: 2.1996\n",
            "Epoch 14/100\n",
            "16/16 [==============================] - 1s 31ms/step - loss: 2.2062 - val_loss: 2.1343\n",
            "Epoch 15/100\n",
            "16/16 [==============================] - 0s 31ms/step - loss: 2.1282 - val_loss: 2.0626\n",
            "Epoch 16/100\n",
            "16/16 [==============================] - 1s 31ms/step - loss: 2.0529 - val_loss: 1.9909\n",
            "Epoch 17/100\n",
            "16/16 [==============================] - 1s 33ms/step - loss: 1.9565 - val_loss: 1.9261\n",
            "Epoch 18/100\n",
            "16/16 [==============================] - 1s 33ms/step - loss: 1.9017 - val_loss: 1.8732\n",
            "Epoch 19/100\n",
            "16/16 [==============================] - 0s 30ms/step - loss: 1.8320 - val_loss: 1.8211\n",
            "Epoch 20/100\n",
            "16/16 [==============================] - 1s 32ms/step - loss: 1.7856 - val_loss: 1.7806\n",
            "Epoch 21/100\n",
            "16/16 [==============================] - 0s 32ms/step - loss: 1.7372 - val_loss: 1.7445\n",
            "Epoch 22/100\n",
            "16/16 [==============================] - 1s 33ms/step - loss: 1.7008 - val_loss: 1.7171\n",
            "Epoch 23/100\n",
            "16/16 [==============================] - 0s 32ms/step - loss: 1.6663 - val_loss: 1.6947\n",
            "Epoch 24/100\n",
            "16/16 [==============================] - 0s 32ms/step - loss: 1.6386 - val_loss: 1.6785\n",
            "Epoch 25/100\n",
            "16/16 [==============================] - 1s 32ms/step - loss: 1.6115 - val_loss: 1.6652\n",
            "Epoch 26/100\n",
            "16/16 [==============================] - 1s 32ms/step - loss: 1.5892 - val_loss: 1.6562\n",
            "Epoch 27/100\n",
            "16/16 [==============================] - 1s 33ms/step - loss: 1.5659 - val_loss: 1.6490\n",
            "Epoch 28/100\n",
            "16/16 [==============================] - 1s 32ms/step - loss: 1.5478 - val_loss: 1.6470\n",
            "Epoch 29/100\n",
            "16/16 [==============================] - 0s 30ms/step - loss: 1.5263 - val_loss: 1.6447\n",
            "Epoch 30/100\n",
            "16/16 [==============================] - 1s 32ms/step - loss: 1.5127 - val_loss: 1.6481\n",
            "Epoch 31/100\n",
            "16/16 [==============================] - 1s 36ms/step - loss: 1.4891 - val_loss: 1.6460\n",
            "Epoch 32/100\n",
            "16/16 [==============================] - 1s 34ms/step - loss: 1.4806 - val_loss: 1.6562\n",
            "Epoch 33/100\n",
            "16/16 [==============================] - 1s 32ms/step - loss: 1.4517 - val_loss: 1.6505\n",
            "Epoch 34/100\n",
            "16/16 [==============================] - 1s 32ms/step - loss: 1.4563 - val_loss: 1.6776\n",
            "Epoch 35/100\n",
            "16/16 [==============================] - 1s 32ms/step - loss: 1.4107 - val_loss: 1.6645\n",
            "Epoch 36/100\n",
            "16/16 [==============================] - 1s 35ms/step - loss: 1.4416 - val_loss: 1.7116\n",
            "Epoch 37/100\n",
            "16/16 [==============================] - 1s 33ms/step - loss: 1.3791 - val_loss: 1.6767\n",
            "Epoch 38/100\n",
            "16/16 [==============================] - 1s 34ms/step - loss: 1.4149 - val_loss: 1.7101\n",
            "Epoch 39/100\n",
            "16/16 [==============================] - 1s 34ms/step - loss: 1.3494 - val_loss: 1.6568\n",
            "Epoch 40/100\n",
            "16/16 [==============================] - 1s 35ms/step - loss: 1.3710 - val_loss: 1.6906\n",
            "Epoch 41/100\n",
            "16/16 [==============================] - 1s 33ms/step - loss: 1.3199 - val_loss: 1.6537\n",
            "Epoch 42/100\n",
            "16/16 [==============================] - 1s 34ms/step - loss: 1.3447 - val_loss: 1.6913\n",
            "Epoch 43/100\n",
            "16/16 [==============================] - 1s 33ms/step - loss: 1.2897 - val_loss: 1.6453\n",
            "Epoch 44/100\n",
            "16/16 [==============================] - 1s 32ms/step - loss: 1.3170 - val_loss: 1.6859\n",
            "Epoch 45/100\n",
            "16/16 [==============================] - 1s 33ms/step - loss: 1.2583 - val_loss: 1.6350\n",
            "Epoch 46/100\n",
            "16/16 [==============================] - 0s 32ms/step - loss: 1.2789 - val_loss: 1.6625\n",
            "Epoch 47/100\n",
            "16/16 [==============================] - 1s 32ms/step - loss: 1.2319 - val_loss: 1.6241\n",
            "Epoch 48/100\n",
            "16/16 [==============================] - 1s 33ms/step - loss: 1.2412 - val_loss: 1.6377\n",
            "Epoch 49/100\n",
            "16/16 [==============================] - 1s 32ms/step - loss: 1.2021 - val_loss: 1.6135\n",
            "Epoch 50/100\n",
            "16/16 [==============================] - 1s 33ms/step - loss: 1.1799 - val_loss: 1.6048\n",
            "Epoch 51/100\n",
            "16/16 [==============================] - 1s 32ms/step - loss: 1.1630 - val_loss: 1.6069\n",
            "Epoch 52/100\n",
            "16/16 [==============================] - 1s 34ms/step - loss: 1.1339 - val_loss: 1.5854\n",
            "Epoch 53/100\n",
            "16/16 [==============================] - 0s 31ms/step - loss: 1.1163 - val_loss: 1.5869\n",
            "Epoch 54/100\n",
            "16/16 [==============================] - 1s 32ms/step - loss: 1.0928 - val_loss: 1.5769\n",
            "Epoch 55/100\n",
            "16/16 [==============================] - 1s 33ms/step - loss: 1.0748 - val_loss: 1.5775\n",
            "Epoch 56/100\n",
            "16/16 [==============================] - 1s 32ms/step - loss: 1.0528 - val_loss: 1.5645\n",
            "Epoch 57/100\n",
            "16/16 [==============================] - 1s 34ms/step - loss: 1.0524 - val_loss: 1.5995\n",
            "Epoch 58/100\n",
            "16/16 [==============================] - 1s 32ms/step - loss: 1.0167 - val_loss: 1.5594\n",
            "Epoch 59/100\n",
            "16/16 [==============================] - 1s 32ms/step - loss: 1.0478 - val_loss: 1.6279\n",
            "Epoch 60/100\n",
            "16/16 [==============================] - 0s 31ms/step - loss: 0.9944 - val_loss: 1.5855\n",
            "Epoch 61/100\n",
            "16/16 [==============================] - 1s 34ms/step - loss: 1.0992 - val_loss: 1.6698\n",
            "Epoch 62/100\n",
            "16/16 [==============================] - 1s 32ms/step - loss: 0.9937 - val_loss: 1.6520\n",
            "Epoch 63/100\n",
            "16/16 [==============================] - 1s 33ms/step - loss: 1.0401 - val_loss: 1.6531\n",
            "Epoch 64/100\n",
            "16/16 [==============================] - 1s 34ms/step - loss: 0.9434 - val_loss: 1.5912\n",
            "Epoch 65/100\n",
            "16/16 [==============================] - 0s 31ms/step - loss: 0.9220 - val_loss: 1.6073\n",
            "Epoch 66/100\n",
            "16/16 [==============================] - 1s 32ms/step - loss: 0.8998 - val_loss: 1.6059\n",
            "Epoch 67/100\n",
            "16/16 [==============================] - 1s 33ms/step - loss: 0.8939 - val_loss: 1.6294\n",
            "Epoch 68/100\n",
            "16/16 [==============================] - 1s 33ms/step - loss: 0.8665 - val_loss: 1.5987\n",
            "Epoch 69/100\n",
            "16/16 [==============================] - 1s 32ms/step - loss: 0.8680 - val_loss: 1.6489\n",
            "Epoch 70/100\n",
            "16/16 [==============================] - 1s 32ms/step - loss: 0.8423 - val_loss: 1.6327\n",
            "Epoch 71/100\n",
            "16/16 [==============================] - 1s 32ms/step - loss: 0.8513 - val_loss: 1.6777\n",
            "Epoch 72/100\n",
            "16/16 [==============================] - 1s 34ms/step - loss: 0.8317 - val_loss: 1.6585\n",
            "Epoch 73/100\n",
            "16/16 [==============================] - 1s 32ms/step - loss: 0.8747 - val_loss: 1.7385\n",
            "Epoch 74/100\n",
            "16/16 [==============================] - 1s 33ms/step - loss: 0.8490 - val_loss: 1.7733\n",
            "Epoch 75/100\n",
            "16/16 [==============================] - 1s 33ms/step - loss: 0.9223 - val_loss: 1.7233\n",
            "Epoch 76/100\n",
            "16/16 [==============================] - 1s 33ms/step - loss: 0.8430 - val_loss: 1.8008\n",
            "Epoch 77/100\n",
            "16/16 [==============================] - 0s 31ms/step - loss: 0.8934 - val_loss: 1.7683\n",
            "Epoch 78/100\n",
            "16/16 [==============================] - 0s 31ms/step - loss: 0.8235 - val_loss: 1.7085\n",
            "Epoch 79/100\n",
            "16/16 [==============================] - 1s 32ms/step - loss: 0.7885 - val_loss: 1.7151\n",
            "Epoch 80/100\n",
            "16/16 [==============================] - 1s 32ms/step - loss: 0.7867 - val_loss: 1.7950\n",
            "Epoch 81/100\n",
            "16/16 [==============================] - 1s 32ms/step - loss: 0.7622 - val_loss: 1.6797\n",
            "Epoch 82/100\n",
            "16/16 [==============================] - 1s 33ms/step - loss: 0.7781 - val_loss: 1.8053\n",
            "Epoch 83/100\n",
            "16/16 [==============================] - 1s 34ms/step - loss: 0.7374 - val_loss: 1.7112\n",
            "Epoch 84/100\n",
            "16/16 [==============================] - 1s 33ms/step - loss: 0.7966 - val_loss: 1.8286\n",
            "Epoch 85/100\n",
            "16/16 [==============================] - 1s 32ms/step - loss: 0.7588 - val_loss: 1.7654\n",
            "Epoch 86/100\n",
            "16/16 [==============================] - 1s 34ms/step - loss: 0.8551 - val_loss: 1.7627\n",
            "Epoch 87/100\n",
            "16/16 [==============================] - 0s 32ms/step - loss: 0.7681 - val_loss: 1.8737\n",
            "Epoch 88/100\n",
            "16/16 [==============================] - 1s 33ms/step - loss: 0.8576 - val_loss: 1.7925\n",
            "Epoch 89/100\n",
            "16/16 [==============================] - 0s 32ms/step - loss: 0.7354 - val_loss: 1.7482\n",
            "Epoch 90/100\n",
            "16/16 [==============================] - 1s 34ms/step - loss: 0.7108 - val_loss: 1.7894\n",
            "Epoch 91/100\n",
            "16/16 [==============================] - 1s 34ms/step - loss: 0.7113 - val_loss: 1.8261\n",
            "Epoch 92/100\n",
            "16/16 [==============================] - 1s 32ms/step - loss: 0.7028 - val_loss: 1.7965\n",
            "Epoch 93/100\n",
            "16/16 [==============================] - 1s 33ms/step - loss: 0.6966 - val_loss: 1.7589\n",
            "Epoch 94/100\n",
            "16/16 [==============================] - 1s 34ms/step - loss: 0.7332 - val_loss: 1.8169\n",
            "Epoch 95/100\n",
            "16/16 [==============================] - 1s 32ms/step - loss: 0.7035 - val_loss: 1.7893\n",
            "Epoch 96/100\n",
            "16/16 [==============================] - 1s 33ms/step - loss: 0.7198 - val_loss: 1.8337\n",
            "Epoch 97/100\n",
            "16/16 [==============================] - 1s 34ms/step - loss: 0.6853 - val_loss: 1.7953\n",
            "Epoch 98/100\n",
            "16/16 [==============================] - 1s 34ms/step - loss: 0.7323 - val_loss: 1.7985\n",
            "Epoch 99/100\n",
            "16/16 [==============================] - 1s 33ms/step - loss: 0.6959 - val_loss: 1.8427\n",
            "Epoch 100/100\n",
            "16/16 [==============================] - 1s 34ms/step - loss: 0.8054 - val_loss: 1.8194\n"
          ],
          "name": "stdout"
        },
        {
          "output_type": "stream",
          "text": [
            "WARNING:absl:Found untraced functions such as lstm_cell_1_layer_call_and_return_conditional_losses, lstm_cell_1_layer_call_fn, lstm_cell_2_layer_call_and_return_conditional_losses, lstm_cell_2_layer_call_fn, lstm_cell_4_layer_call_and_return_conditional_losses while saving (showing 5 of 20). These functions will not be directly callable after loading.\n"
          ],
          "name": "stderr"
        },
        {
          "output_type": "stream",
          "text": [
            "INFO:tensorflow:Assets written to: ./time_series_forecaster/best_model/assets\n"
          ],
          "name": "stdout"
        },
        {
          "output_type": "stream",
          "text": [
            "INFO:tensorflow:Assets written to: ./time_series_forecaster/best_model/assets\n"
          ],
          "name": "stderr"
        }
      ]
    },
    {
      "cell_type": "code",
      "metadata": {
        "colab": {
          "base_uri": "https://localhost:8080/"
        },
        "id": "jQ6_nBWsVWV8",
        "outputId": "c355a5ac-3747-48aa-9bbd-649363f817f3"
      },
      "source": [
        "# Predicting on test set:\n",
        "test_pred = model.predict(testset)\n",
        "print(test_pred.shape)\n"
      ],
      "execution_count": 8,
      "outputs": [
        {
          "output_type": "stream",
          "text": [
            "22/22 [==============================] - 1s 20ms/step\n",
            "(651, 1)\n"
          ],
          "name": "stdout"
        }
      ]
    },
    {
      "cell_type": "markdown",
      "metadata": {
        "id": "YP0zS3rTYtIE"
      },
      "source": [
        " Autokeras is mainly used for mutlivaraite time series analysis. Here the validation loss is greater than train set loss. So it proves auto keras isnt advisble for time series prediction."
      ]
    },
    {
      "cell_type": "code",
      "metadata": {
        "id": "CP4V-Y6vZiSu"
      },
      "source": [
        ""
      ],
      "execution_count": null,
      "outputs": []
    }
  ]
}