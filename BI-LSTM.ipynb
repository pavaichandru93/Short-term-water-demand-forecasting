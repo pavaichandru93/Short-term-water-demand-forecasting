{
  "nbformat": 4,
  "nbformat_minor": 0,
  "metadata": {
    "colab": {
      "name": "bi-lstm&gru.ipynb",
      "provenance": [],
      "collapsed_sections": []
    },
    "kernelspec": {
      "name": "python3",
      "display_name": "Python 3"
    }
  },
  "cells": [
    {
      "cell_type": "code",
      "metadata": {
        "id": "oqohcKRaRD8C"
      },
      "source": [
        "import pandas as pd\r\n",
        "import numpy as np\r\n",
        "import matplotlib.pyplot as mlp\r\n",
        "import seaborn as sns\r\n",
        "from math import sqrt\r\n",
        "from sklearn.metrics import mean_squared_error\r\n",
        "import tensorflow as tf\r\n",
        "from tensorflow import keras\r\n",
        "from tensorflow.keras import Sequential, layers, callbacks\r\n",
        "from tensorflow.keras.layers import Dense, LSTM, Dropout, GRU, Bidirectional\r\n",
        "from sklearn.preprocessing import MinMaxScaler\r\n",
        "from tensorflow.keras.callbacks import EarlyStopping"
      ],
      "execution_count": 2,
      "outputs": []
    },
    {
      "cell_type": "code",
      "metadata": {
        "colab": {
          "base_uri": "https://localhost:8080/"
        },
        "id": "DcDdeZ6pTDQ6",
        "outputId": "63c34a1e-f481-4415-ffe7-0858d369b559"
      },
      "source": [
        "from google.colab import drive\r\n",
        "drive.mount('/content/gdrive')"
      ],
      "execution_count": 4,
      "outputs": [
        {
          "output_type": "stream",
          "text": [
            "Mounted at /content/gdrive\n"
          ],
          "name": "stdout"
        }
      ]
    },
    {
      "cell_type": "code",
      "metadata": {
        "colab": {
          "base_uri": "https://localhost:8080/"
        },
        "id": "qnNOE3xFTkO3",
        "outputId": "69ac6062-7a18-4bad-c519-1660ef5f7315"
      },
      "source": [
        "ls'/content/gdrive/My Drive/Thesis'"
      ],
      "execution_count": 5,
      "outputs": [
        {
          "output_type": "stream",
          "text": [
            "dataframe_dma_flow_1D.csv     dataframe_flow_variable_1D.csv\n",
            "dataframe_dma_flow_60min.csv  dataframe_flow_variable_60min.csv\n",
            "dataframe_flow_1D.csv\n"
          ],
          "name": "stdout"
        }
      ]
    },
    {
      "cell_type": "code",
      "metadata": {
        "id": "ZXmgOvpTaz7I"
      },
      "source": [
        "data = pd.read_csv(\"/content/gdrive/My Drive/Thesis/dataframe_flow_variable_60min.csv\")"
      ],
      "execution_count": 6,
      "outputs": []
    },
    {
      "cell_type": "code",
      "metadata": {
        "colab": {
          "base_uri": "https://localhost:8080/"
        },
        "id": "AwJNl2RNTuOG",
        "outputId": "0b5ea5f2-16a9-41e1-c3ba-e7fe2b9f7601"
      },
      "source": [
        "data.shape"
      ],
      "execution_count": 5,
      "outputs": [
        {
          "output_type": "execute_result",
          "data": {
            "text/plain": [
              "(2208, 34)"
            ]
          },
          "metadata": {
            "tags": []
          },
          "execution_count": 5
        }
      ]
    },
    {
      "cell_type": "code",
      "metadata": {
        "id": "3_9bRB_VTxty"
      },
      "source": [
        "data['Unnamed: 0'] = pd.to_datetime(data['Unnamed: 0'])\r\n",
        "data.rename( columns={'Unnamed: 0':'Date_time','225':'DMA_225'}, inplace=True )\r\n",
        "data_DMA225 = data[['Date_time','DMA_225']]"
      ],
      "execution_count": 7,
      "outputs": []
    },
    {
      "cell_type": "code",
      "metadata": {
        "colab": {
          "base_uri": "https://localhost:8080/"
        },
        "id": "YEAfLBu5So3q",
        "outputId": "946d7e99-8025-48ad-eb45-b41bfb8677b6"
      },
      "source": [
        "data_DMA225.info()"
      ],
      "execution_count": 7,
      "outputs": [
        {
          "output_type": "stream",
          "text": [
            "<class 'pandas.core.frame.DataFrame'>\n",
            "RangeIndex: 2208 entries, 0 to 2207\n",
            "Data columns (total 2 columns):\n",
            " #   Column     Non-Null Count  Dtype         \n",
            "---  ------     --------------  -----         \n",
            " 0   Date_time  2208 non-null   datetime64[ns]\n",
            " 1   DMA_225    2208 non-null   float64       \n",
            "dtypes: datetime64[ns](1), float64(1)\n",
            "memory usage: 34.6 KB\n"
          ],
          "name": "stdout"
        }
      ]
    },
    {
      "cell_type": "code",
      "metadata": {
        "colab": {
          "base_uri": "https://localhost:8080/",
          "height": 419
        },
        "id": "OYolZ84pVgnS",
        "outputId": "68f56232-08e7-46d1-b79b-4a572f9a2aa9"
      },
      "source": [
        "data_DMA225"
      ],
      "execution_count": 8,
      "outputs": [
        {
          "output_type": "execute_result",
          "data": {
            "text/html": [
              "<div>\n",
              "<style scoped>\n",
              "    .dataframe tbody tr th:only-of-type {\n",
              "        vertical-align: middle;\n",
              "    }\n",
              "\n",
              "    .dataframe tbody tr th {\n",
              "        vertical-align: top;\n",
              "    }\n",
              "\n",
              "    .dataframe thead th {\n",
              "        text-align: right;\n",
              "    }\n",
              "</style>\n",
              "<table border=\"1\" class=\"dataframe\">\n",
              "  <thead>\n",
              "    <tr style=\"text-align: right;\">\n",
              "      <th></th>\n",
              "      <th>Date_time</th>\n",
              "      <th>DMA_225</th>\n",
              "    </tr>\n",
              "  </thead>\n",
              "  <tbody>\n",
              "    <tr>\n",
              "      <th>0</th>\n",
              "      <td>2016-04-22 00:00:00</td>\n",
              "      <td>1.13875</td>\n",
              "    </tr>\n",
              "    <tr>\n",
              "      <th>1</th>\n",
              "      <td>2016-04-22 01:00:00</td>\n",
              "      <td>1.16650</td>\n",
              "    </tr>\n",
              "    <tr>\n",
              "      <th>2</th>\n",
              "      <td>2016-04-22 02:00:00</td>\n",
              "      <td>1.16650</td>\n",
              "    </tr>\n",
              "    <tr>\n",
              "      <th>3</th>\n",
              "      <td>2016-04-22 03:00:00</td>\n",
              "      <td>1.33300</td>\n",
              "    </tr>\n",
              "    <tr>\n",
              "      <th>4</th>\n",
              "      <td>2016-04-22 04:00:00</td>\n",
              "      <td>1.33300</td>\n",
              "    </tr>\n",
              "    <tr>\n",
              "      <th>...</th>\n",
              "      <td>...</td>\n",
              "      <td>...</td>\n",
              "    </tr>\n",
              "    <tr>\n",
              "      <th>2203</th>\n",
              "      <td>2016-07-22 19:00:00</td>\n",
              "      <td>3.97225</td>\n",
              "    </tr>\n",
              "    <tr>\n",
              "      <th>2204</th>\n",
              "      <td>2016-07-22 20:00:00</td>\n",
              "      <td>3.41650</td>\n",
              "    </tr>\n",
              "    <tr>\n",
              "      <th>2205</th>\n",
              "      <td>2016-07-22 21:00:00</td>\n",
              "      <td>2.88900</td>\n",
              "    </tr>\n",
              "    <tr>\n",
              "      <th>2206</th>\n",
              "      <td>2016-07-22 22:00:00</td>\n",
              "      <td>2.22200</td>\n",
              "    </tr>\n",
              "    <tr>\n",
              "      <th>2207</th>\n",
              "      <td>2016-07-22 23:00:00</td>\n",
              "      <td>1.61150</td>\n",
              "    </tr>\n",
              "  </tbody>\n",
              "</table>\n",
              "<p>2208 rows × 2 columns</p>\n",
              "</div>"
            ],
            "text/plain": [
              "               Date_time  DMA_225\n",
              "0    2016-04-22 00:00:00  1.13875\n",
              "1    2016-04-22 01:00:00  1.16650\n",
              "2    2016-04-22 02:00:00  1.16650\n",
              "3    2016-04-22 03:00:00  1.33300\n",
              "4    2016-04-22 04:00:00  1.33300\n",
              "...                  ...      ...\n",
              "2203 2016-07-22 19:00:00  3.97225\n",
              "2204 2016-07-22 20:00:00  3.41650\n",
              "2205 2016-07-22 21:00:00  2.88900\n",
              "2206 2016-07-22 22:00:00  2.22200\n",
              "2207 2016-07-22 23:00:00  1.61150\n",
              "\n",
              "[2208 rows x 2 columns]"
            ]
          },
          "metadata": {
            "tags": []
          },
          "execution_count": 8
        }
      ]
    },
    {
      "cell_type": "code",
      "metadata": {
        "colab": {
          "base_uri": "https://localhost:8080/"
        },
        "id": "smNjIw39U2vc",
        "outputId": "3edae9fc-1673-4985-f32e-dfc6193d32b6"
      },
      "source": [
        "# Train Test Split Index\r\n",
        "size_of_trainset = 0.7\r\n",
        "split_value = round(len(data_DMA225)* size_of_trainset)\r\n",
        "print (split_value)\r\n",
        "\r\n",
        "# Split\r\n",
        "train = data_DMA225.iloc[:split_value]\r\n",
        "test = data_DMA225.iloc[split_value:]\r\n",
        "\r\n",
        "print(data_DMA225.shape)\r\n",
        "print(train.shape,test.shape)"
      ],
      "execution_count": 8,
      "outputs": [
        {
          "output_type": "stream",
          "text": [
            "1546\n",
            "(2208, 2)\n",
            "(1546, 2) (662, 2)\n"
          ],
          "name": "stdout"
        }
      ]
    },
    {
      "cell_type": "code",
      "metadata": {
        "colab": {
          "base_uri": "https://localhost:8080/"
        },
        "id": "HgLJU0DFbLgj",
        "outputId": "1efc14c5-5ab4-47f0-cdd4-8c1bbb432774"
      },
      "source": [
        "# Normalisation training:\r\n",
        "scaler = MinMaxScaler(feature_range=(0, 1))\r\n",
        "scaler = scaler.fit(train.iloc[:,1:])\r\n",
        "print('Min: %f, Max: %f' % (scaler.data_min_, scaler.data_max_))\r\n",
        "# Normalised dataset:\r\n",
        "df_train = scaler.transform(train.iloc[:,1:])\r\n",
        "df_test = scaler.transform(test.iloc[:,1:])"
      ],
      "execution_count": 9,
      "outputs": [
        {
          "output_type": "stream",
          "text": [
            "Min: 0.916750, Max: 8.916750\n"
          ],
          "name": "stdout"
        }
      ]
    },
    {
      "cell_type": "code",
      "metadata": {
        "id": "BExhOOv3bMN3"
      },
      "source": [
        "# Converting numpy array into matrix:\r\n",
        "def matrix_dataset(array_dataset, timesteps=1):\r\n",
        " mat_X, mat_Y = [], []\r\n",
        " for i in range(len(array_dataset)-timesteps-1):\r\n",
        "  Z = i+timesteps\r\n",
        "  m = array_dataset[i:Z, 0]\r\n",
        "  mat_X.append(m)\r\n",
        "  n = array_dataset[Z, 0]\r\n",
        "  mat_Y.append(n)\r\n",
        " return np.array(mat_X), np.array( mat_Y)"
      ],
      "execution_count": 10,
      "outputs": []
    },
    {
      "cell_type": "code",
      "metadata": {
        "colab": {
          "base_uri": "https://localhost:8080/"
        },
        "id": "srEPb1ovb17v",
        "outputId": "06e504fe-a8ef-4b3e-91bb-059c1e074b70"
      },
      "source": [
        "# Preparing the data and reshaping it as my  bidirectional LSTM input layer must be 3D (2 dimensions - samples, time steps, and features)\r\n",
        "timesteps =  10\r\n",
        "train_X,train_y = matrix_dataset(df_train,timesteps)\r\n",
        "test_X, test_y = matrix_dataset(df_test,timesteps)\r\n",
        "print(\"The train_X and train_y values are:\",train_X.shape,train_y.shape)\r\n",
        "print(\"The test_X and test_y values are:\",test_X.shape,test_y.shape)"
      ],
      "execution_count": 11,
      "outputs": [
        {
          "output_type": "stream",
          "text": [
            "The train_X and train_y values are: (1535, 10) (1535,)\n",
            "The test_X and test_y values are: (651, 10) (651,)\n"
          ],
          "name": "stdout"
        }
      ]
    },
    {
      "cell_type": "code",
      "metadata": {
        "colab": {
          "base_uri": "https://localhost:8080/"
        },
        "id": "snTTPit4cGCm",
        "outputId": "2812d390-5278-49ba-d036-f7eb3d97b1fd"
      },
      "source": [
        "#Reshaping for bidirectional lstm input\r\n",
        "#Feature should be 1 to get lstm input\r\n",
        "timesteps = 10\r\n",
        "feature = 1\r\n",
        "train_X = train_X.reshape((train_X.shape[0], timesteps, feature))\r\n",
        "test_X = test_X.reshape((test_X.shape[0], timesteps, feature))\r\n",
        "print(\"The train_X values after reshaping:\",train_X.shape)\r\n",
        "print(\"The test_X values after reshaping:\",test_X.shape)"
      ],
      "execution_count": 12,
      "outputs": [
        {
          "output_type": "stream",
          "text": [
            "The train_X values after reshaping: (1535, 10, 1)\n",
            "The test_X values after reshaping: (651, 10, 1)\n"
          ],
          "name": "stdout"
        }
      ]
    },
    {
      "cell_type": "code",
      "metadata": {
        "colab": {
          "base_uri": "https://localhost:8080/"
        },
        "id": "wS-oim-Ac0Us",
        "outputId": "4cf51c1b-51fa-4133-a434-2a5f647e8472"
      },
      "source": [
        "bilstm_model = Sequential()\r\n",
        "bilstm_model.add(Bidirectional(LSTM(50, return_sequences=True, activation= 'relu'), input_shape=(timesteps, feature)))\r\n",
        "#bilstm_model.add(Dropout(0.3))\r\n",
        "bilstm_model.add(Bidirectional(LSTM(25)))\r\n",
        "#bilstm_model.add(Dropout(0.3))\r\n",
        "#bilstm_model.add(Bidirectional(LSTM(50)))\r\n",
        "bilstm_model.add(Dropout(0.2))\r\n",
        "bilstm_model.add(Dense(1 ,activation = 'linear'))\r\n",
        "bilstm_model.compile(optimizer='adam', loss='mse')\r\n",
        "bilstm_model.fit(train_X,train_y,validation_data=(test_X,test_y),epochs=200,batch_size=200, \r\n",
        "                    callbacks=[EarlyStopping(monitor='val_loss', patience=10)], verbose=1, shuffle=False)\r\n",
        "bilstm_model.compile(loss='mean_squared_error',optimizer='adam')"
      ],
      "execution_count": 17,
      "outputs": [
        {
          "output_type": "stream",
          "text": [
            "Epoch 1/200\n",
            "8/8 [==============================] - 7s 196ms/step - loss: 0.1171 - val_loss: 0.0525\n",
            "Epoch 2/200\n",
            "8/8 [==============================] - 0s 47ms/step - loss: 0.0488 - val_loss: 0.0477\n",
            "Epoch 3/200\n",
            "8/8 [==============================] - 0s 48ms/step - loss: 0.0467 - val_loss: 0.0385\n",
            "Epoch 4/200\n",
            "8/8 [==============================] - 0s 48ms/step - loss: 0.0392 - val_loss: 0.0355\n",
            "Epoch 5/200\n",
            "8/8 [==============================] - 0s 49ms/step - loss: 0.0345 - val_loss: 0.0300\n",
            "Epoch 6/200\n",
            "8/8 [==============================] - 0s 49ms/step - loss: 0.0300 - val_loss: 0.0259\n",
            "Epoch 7/200\n",
            "8/8 [==============================] - 0s 48ms/step - loss: 0.0253 - val_loss: 0.0216\n",
            "Epoch 8/200\n",
            "8/8 [==============================] - 0s 48ms/step - loss: 0.0206 - val_loss: 0.0190\n",
            "Epoch 9/200\n",
            "8/8 [==============================] - 0s 47ms/step - loss: 0.0179 - val_loss: 0.0175\n",
            "Epoch 10/200\n",
            "8/8 [==============================] - 0s 47ms/step - loss: 0.0168 - val_loss: 0.0169\n",
            "Epoch 11/200\n",
            "8/8 [==============================] - 0s 48ms/step - loss: 0.0165 - val_loss: 0.0160\n",
            "Epoch 12/200\n",
            "8/8 [==============================] - 0s 46ms/step - loss: 0.0156 - val_loss: 0.0153\n",
            "Epoch 13/200\n",
            "8/8 [==============================] - 0s 48ms/step - loss: 0.0145 - val_loss: 0.0143\n",
            "Epoch 14/200\n",
            "8/8 [==============================] - 0s 46ms/step - loss: 0.0136 - val_loss: 0.0135\n",
            "Epoch 15/200\n",
            "8/8 [==============================] - 0s 47ms/step - loss: 0.0124 - val_loss: 0.0128\n",
            "Epoch 16/200\n",
            "8/8 [==============================] - 0s 48ms/step - loss: 0.0121 - val_loss: 0.0119\n",
            "Epoch 17/200\n",
            "8/8 [==============================] - 0s 48ms/step - loss: 0.0111 - val_loss: 0.0117\n",
            "Epoch 18/200\n",
            "8/8 [==============================] - 0s 47ms/step - loss: 0.0105 - val_loss: 0.0114\n",
            "Epoch 19/200\n",
            "8/8 [==============================] - 0s 49ms/step - loss: 0.0104 - val_loss: 0.0100\n",
            "Epoch 20/200\n",
            "8/8 [==============================] - 0s 46ms/step - loss: 0.0088 - val_loss: 0.0095\n",
            "Epoch 21/200\n",
            "8/8 [==============================] - 0s 48ms/step - loss: 0.0089 - val_loss: 0.0089\n",
            "Epoch 22/200\n",
            "8/8 [==============================] - 0s 48ms/step - loss: 0.0084 - val_loss: 0.0082\n",
            "Epoch 23/200\n",
            "8/8 [==============================] - 0s 46ms/step - loss: 0.0079 - val_loss: 0.0077\n",
            "Epoch 24/200\n",
            "8/8 [==============================] - 0s 50ms/step - loss: 0.0076 - val_loss: 0.0073\n",
            "Epoch 25/200\n",
            "8/8 [==============================] - 0s 47ms/step - loss: 0.0073 - val_loss: 0.0071\n",
            "Epoch 26/200\n",
            "8/8 [==============================] - 0s 53ms/step - loss: 0.0073 - val_loss: 0.0069\n",
            "Epoch 27/200\n",
            "8/8 [==============================] - 1s 71ms/step - loss: 0.0077 - val_loss: 0.0072\n",
            "Epoch 28/200\n",
            "8/8 [==============================] - 0s 48ms/step - loss: 0.0073 - val_loss: 0.0081\n",
            "Epoch 29/200\n",
            "8/8 [==============================] - 0s 51ms/step - loss: 0.0074 - val_loss: 0.0081\n",
            "Epoch 30/200\n",
            "8/8 [==============================] - 0s 48ms/step - loss: 0.0071 - val_loss: 0.0078\n",
            "Epoch 31/200\n",
            "8/8 [==============================] - 0s 48ms/step - loss: 0.0071 - val_loss: 0.0080\n",
            "Epoch 32/200\n",
            "8/8 [==============================] - 0s 48ms/step - loss: 0.0073 - val_loss: 0.0082\n",
            "Epoch 33/200\n",
            "8/8 [==============================] - 0s 47ms/step - loss: 0.0074 - val_loss: 0.0078\n",
            "Epoch 34/200\n",
            "8/8 [==============================] - 0s 48ms/step - loss: 0.0070 - val_loss: 0.0077\n",
            "Epoch 35/200\n",
            "8/8 [==============================] - 0s 48ms/step - loss: 0.0069 - val_loss: 0.0071\n",
            "Epoch 36/200\n",
            "8/8 [==============================] - 0s 46ms/step - loss: 0.0067 - val_loss: 0.0070\n"
          ],
          "name": "stdout"
        }
      ]
    },
    {
      "cell_type": "code",
      "metadata": {
        "colab": {
          "base_uri": "https://localhost:8080/"
        },
        "id": "69atBCKidQKh",
        "outputId": "c556a1e7-914a-4c4c-8795-6fb4edb0e222"
      },
      "source": [
        "bilstm_model.summary()"
      ],
      "execution_count": 18,
      "outputs": [
        {
          "output_type": "stream",
          "text": [
            "Model: \"sequential_1\"\n",
            "_________________________________________________________________\n",
            "Layer (type)                 Output Shape              Param #   \n",
            "=================================================================\n",
            "bidirectional_2 (Bidirection (None, 10, 100)           20800     \n",
            "_________________________________________________________________\n",
            "bidirectional_3 (Bidirection (None, 50)                25200     \n",
            "_________________________________________________________________\n",
            "dropout_1 (Dropout)          (None, 50)                0         \n",
            "_________________________________________________________________\n",
            "dense_1 (Dense)              (None, 1)                 51        \n",
            "=================================================================\n",
            "Total params: 46,051\n",
            "Trainable params: 46,051\n",
            "Non-trainable params: 0\n",
            "_________________________________________________________________\n"
          ],
          "name": "stdout"
        }
      ]
    },
    {
      "cell_type": "code",
      "metadata": {
        "id": "FEpxAfNJdpIC"
      },
      "source": [
        "#Prediction and getting the accuracy metrics\r\n",
        "predict_train=bilstm_model.predict(train_X)\r\n",
        "predict_test=bilstm_model.predict(test_X)\r\n",
        "\r\n",
        "##Transformback to original form\r\n",
        "predict_train_bilstm=scaler.inverse_transform(predict_train)\r\n",
        "predict_test_bilstm=scaler.inverse_transform(predict_test)"
      ],
      "execution_count": 19,
      "outputs": []
    },
    {
      "cell_type": "code",
      "metadata": {
        "colab": {
          "base_uri": "https://localhost:8080/"
        },
        "id": "7-Gvgu6edzFz",
        "outputId": "307b362b-3154-4289-daab-6b68f1a15c99"
      },
      "source": [
        "### Calculate RMSE performance metrics\r\n",
        "import math\r\n",
        "from sklearn.metrics import mean_squared_error\r\n",
        "trainset = math.sqrt(mean_squared_error(train_y,predict_train_bilstm))\r\n",
        "testset = math.sqrt(mean_squared_error(test_y,predict_test_bilstm))\r\n",
        "\r\n",
        "print(\"The RMSE prediction value on trainset: \",trainset)\r\n",
        "print(\"The RMSE prediction value on testset: \",testset)"
      ],
      "execution_count": 20,
      "outputs": [
        {
          "output_type": "stream",
          "text": [
            "The RMSE prediction value on trainset:  3.2354451171024947\n",
            "The RMSE prediction value on testset:  3.2336957802772504\n"
          ],
          "name": "stdout"
        }
      ]
    },
    {
      "cell_type": "code",
      "metadata": {
        "id": "oauLE65ed5sJ"
      },
      "source": [
        ""
      ],
      "execution_count": null,
      "outputs": []
    }
  ]
}