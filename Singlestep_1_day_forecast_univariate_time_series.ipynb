{
  "nbformat": 4,
  "nbformat_minor": 0,
  "metadata": {
    "colab": {
      "name": "Singlestep 1 day forecast - univariate time series.ipynb",
      "provenance": [],
      "collapsed_sections": []
    },
    "kernelspec": {
      "name": "python3",
      "display_name": "Python 3"
    }
  },
  "cells": [
    {
      "cell_type": "code",
      "metadata": {
        "id": "wqm8AP-IHGs1"
      },
      "source": [
        "# importing libraries\n",
        "import pandas as pd\n",
        "import matplotlib.pyplot as plt\n",
        "%matplotlib inline\n",
        "import numpy as np\n",
        "import seaborn as sns\n",
        "import matplotlib as mpl\n",
        "from datetime import datetime\n",
        "import plotly.express as px\n",
        "import tensorflow as tf\n",
        "from sklearn.preprocessing import MinMaxScaler\n",
        "from tensorflow.keras.models import Sequential\n",
        "from tensorflow.keras.layers import Dense\n",
        "from tensorflow.keras.layers import LSTM\n",
        "from tensorflow.keras.layers import Dropout\n"
      ],
      "execution_count": 1,
      "outputs": []
    },
    {
      "cell_type": "code",
      "metadata": {
        "colab": {
          "base_uri": "https://localhost:8080/"
        },
        "id": "BOrFvZZgHrPJ",
        "outputId": "2c43fe94-5d00-4e82-8a98-eda4ce06d331"
      },
      "source": [
        "# Mounting the drive\n",
        "from google.colab import drive\n",
        "drive.mount('/content/gdrive')"
      ],
      "execution_count": 2,
      "outputs": [
        {
          "output_type": "stream",
          "text": [
            "Drive already mounted at /content/gdrive; to attempt to forcibly remount, call drive.mount(\"/content/gdrive\", force_remount=True).\n"
          ],
          "name": "stdout"
        }
      ]
    },
    {
      "cell_type": "code",
      "metadata": {
        "colab": {
          "base_uri": "https://localhost:8080/"
        },
        "id": "Mn9OCYtJIgMN",
        "outputId": "bbb9f7b2-75ce-4f6e-adbf-1d00ffadb0d7"
      },
      "source": [
        "ls'/content/gdrive/My Drive/Thesis'"
      ],
      "execution_count": 3,
      "outputs": [
        {
          "output_type": "stream",
          "text": [
            "dataframe_dma_flow_1D.csv     dataframe_flow_variable_1D.csv\n",
            "dataframe_dma_flow_60min.csv  dataframe_flow_variable_60min.csv\n",
            "dataframe_flow_1D.csv         DMA_225.csv\n"
          ],
          "name": "stdout"
        }
      ]
    },
    {
      "cell_type": "code",
      "metadata": {
        "id": "zUOCUaXWIwPh"
      },
      "source": [
        "data = pd.read_csv(\"/content/gdrive/My Drive/Thesis/DMA_225.csv\")\n",
        "data['Date-time'] = pd.to_datetime(data['Date-time'], dayfirst=True, errors='coerce')"
      ],
      "execution_count": 4,
      "outputs": []
    },
    {
      "cell_type": "code",
      "metadata": {
        "id": "KXUdA0zOJIF1"
      },
      "source": [
        "data.rename( columns={'Flow':'DMA_225','Date-time':'Date_time'}, inplace=True )"
      ],
      "execution_count": 5,
      "outputs": []
    },
    {
      "cell_type": "code",
      "metadata": {
        "id": "vY72Ke83JcT5"
      },
      "source": [
        "data_DMA225 = data[['Date_time','DMA_225']]"
      ],
      "execution_count": 6,
      "outputs": []
    },
    {
      "cell_type": "code",
      "metadata": {
        "id": "wjVG5hMaJhHR"
      },
      "source": [
        "data_DMA225_indexed = data_DMA225.set_index('Date_time')"
      ],
      "execution_count": 7,
      "outputs": []
    },
    {
      "cell_type": "code",
      "metadata": {
        "colab": {
          "base_uri": "https://localhost:8080/"
        },
        "id": "IzOJlWWEJklH",
        "outputId": "6a5bd7f1-1438-4cd4-e8b9-b763d2fa72ee"
      },
      "source": [
        "data_DMA225_indexed.shape"
      ],
      "execution_count": 8,
      "outputs": [
        {
          "output_type": "execute_result",
          "data": {
            "text/plain": [
              "(35040, 1)"
            ]
          },
          "metadata": {
            "tags": []
          },
          "execution_count": 8
        }
      ]
    },
    {
      "cell_type": "code",
      "metadata": {
        "id": "jxkZRQC_Joqb",
        "colab": {
          "base_uri": "https://localhost:8080/"
        },
        "outputId": "d3a79c36-cdd1-4f6e-f445-37df66a06891"
      },
      "source": [
        "# Sampling the data into daily sum.\n",
        "dd = data_DMA225_indexed.resample('D').sum()\n",
        "dd.shape"
      ],
      "execution_count": 9,
      "outputs": [
        {
          "output_type": "execute_result",
          "data": {
            "text/plain": [
              "(365, 1)"
            ]
          },
          "metadata": {
            "tags": []
          },
          "execution_count": 9
        }
      ]
    },
    {
      "cell_type": "code",
      "metadata": {
        "id": "NMvUtx86Jxl0"
      },
      "source": [
        "values = dd.values"
      ],
      "execution_count": 10,
      "outputs": []
    },
    {
      "cell_type": "code",
      "metadata": {
        "id": "Q51Uw-QhJ6Ya",
        "colab": {
          "base_uri": "https://localhost:8080/"
        },
        "outputId": "02ecb22f-e09b-4ce6-bb51-453a74a3e69c"
      },
      "source": [
        "# Splitting train and test set.\n",
        "train_size = int(len(values) * 0.70)\n",
        "test_size = len(values) - train_size\n",
        "train, test = values[0:train_size,:], values[train_size:len(values),:]\n",
        "print(len(train), len(test))"
      ],
      "execution_count": 11,
      "outputs": [
        {
          "output_type": "stream",
          "text": [
            "255 110\n"
          ],
          "name": "stdout"
        }
      ]
    },
    {
      "cell_type": "code",
      "metadata": {
        "id": "MAHo0TilUgKq"
      },
      "source": [
        "# Converting numpy array into matrix:\n",
        "def matrix_dataset(array_dataset, timesteps=1):\n",
        " mat_X, mat_Y = [], []\n",
        " for i in range(len(array_dataset)-timesteps-1):\n",
        "  Z = i+timesteps\n",
        "  m = array_dataset[i:Z, 0]\n",
        "  mat_X.append(m)\n",
        "  n = array_dataset[Z, 0]\n",
        "  mat_Y.append(n)\n",
        " return np.array(mat_X), np.array( mat_Y)"
      ],
      "execution_count": 12,
      "outputs": []
    },
    {
      "cell_type": "code",
      "metadata": {
        "id": "3TD0j0nrMmOq"
      },
      "source": [
        "# Standardisation of the data\n",
        "scaler = MinMaxScaler(feature_range=(0, 1))\n",
        "train_val = scaler.fit_transform(train)\n",
        "test_val = scaler.fit_transform(test)\n",
        "\n",
        "# Look_back : t-6, t-5, t-4, t-3, t-2, t-1 and t  to calculate t+1 (single step prediction)\n",
        "look_back = 7\n",
        "X_train, Y_train = matrix_dataset(train_val, look_back)\n",
        "X_test, Y_test = matrix_dataset(test_val, look_back)"
      ],
      "execution_count": 13,
      "outputs": []
    },
    {
      "cell_type": "code",
      "metadata": {
        "id": "-v2AFGjfBa8V"
      },
      "source": [
        "# reshape input to be [samples, time_steps, features]\n",
        "time_steps = 1 # single-step prediction\n",
        "features = 1\n",
        "X_train = X_train.reshape((X_train.shape[0],X_train.shape[1],1))\n",
        "X_test = X_test.reshape((X_test.shape[0],X_test.shape[1],1))\n",
        "#X_train = np.reshape(X_train, (X_train.shape[0],1,1))\n",
        "#X_test = np.reshape(X_test, (X_test.shape[0],1,1))"
      ],
      "execution_count": 14,
      "outputs": []
    },
    {
      "cell_type": "code",
      "metadata": {
        "colab": {
          "base_uri": "https://localhost:8080/"
        },
        "id": "9-7sBuMhmQmH",
        "outputId": "df480d0d-56a5-4c35-b57c-1bcef645eded"
      },
      "source": [
        "X_train.shape"
      ],
      "execution_count": 15,
      "outputs": [
        {
          "output_type": "execute_result",
          "data": {
            "text/plain": [
              "(247, 7, 1)"
            ]
          },
          "metadata": {
            "tags": []
          },
          "execution_count": 15
        }
      ]
    },
    {
      "cell_type": "code",
      "metadata": {
        "colab": {
          "base_uri": "https://localhost:8080/"
        },
        "id": "aoIgAh0JmTPf",
        "outputId": "9c3bbbda-83a7-4cad-df32-0f708f018065"
      },
      "source": [
        "X_test.shape"
      ],
      "execution_count": 16,
      "outputs": [
        {
          "output_type": "execute_result",
          "data": {
            "text/plain": [
              "(102, 7, 1)"
            ]
          },
          "metadata": {
            "tags": []
          },
          "execution_count": 16
        }
      ]
    },
    {
      "cell_type": "code",
      "metadata": {
        "colab": {
          "base_uri": "https://localhost:8080/"
        },
        "id": "qJ130XMIOpSD",
        "outputId": "294601ce-53fd-4e00-bd60-69a466f8e308"
      },
      "source": [
        "# LSTM model\n",
        "model = tf.keras.Sequential()\n",
        "model.add(LSTM(6,input_shape=(7,1)))\n",
        "model.add(Dropout(0.8))\n",
        "model.add(Dense(1))\n",
        "model.compile(loss='mean_squared_error', optimizer='adam')\n",
        "history=model.fit(X_train, Y_train, validation_data=(X_test,Y_test),shuffle=False, epochs=100, batch_size=1, verbose=2)"
      ],
      "execution_count": 17,
      "outputs": [
        {
          "output_type": "stream",
          "text": [
            "Epoch 1/100\n",
            "247/247 - 3s - loss: 0.0225 - val_loss: 0.0148\n",
            "Epoch 2/100\n",
            "247/247 - 1s - loss: 0.0251 - val_loss: 0.0145\n",
            "Epoch 3/100\n",
            "247/247 - 1s - loss: 0.0175 - val_loss: 0.0134\n",
            "Epoch 4/100\n",
            "247/247 - 1s - loss: 0.0156 - val_loss: 0.0130\n",
            "Epoch 5/100\n",
            "247/247 - 1s - loss: 0.0152 - val_loss: 0.0124\n",
            "Epoch 6/100\n",
            "247/247 - 1s - loss: 0.0134 - val_loss: 0.0123\n",
            "Epoch 7/100\n",
            "247/247 - 1s - loss: 0.0144 - val_loss: 0.0115\n",
            "Epoch 8/100\n",
            "247/247 - 1s - loss: 0.0124 - val_loss: 0.0112\n",
            "Epoch 9/100\n",
            "247/247 - 1s - loss: 0.0116 - val_loss: 0.0111\n",
            "Epoch 10/100\n",
            "247/247 - 1s - loss: 0.0132 - val_loss: 0.0112\n",
            "Epoch 11/100\n",
            "247/247 - 1s - loss: 0.0115 - val_loss: 0.0106\n",
            "Epoch 12/100\n",
            "247/247 - 1s - loss: 0.0111 - val_loss: 0.0101\n",
            "Epoch 13/100\n",
            "247/247 - 1s - loss: 0.0121 - val_loss: 0.0098\n",
            "Epoch 14/100\n",
            "247/247 - 1s - loss: 0.0101 - val_loss: 0.0099\n",
            "Epoch 15/100\n",
            "247/247 - 1s - loss: 0.0124 - val_loss: 0.0107\n",
            "Epoch 16/100\n",
            "247/247 - 1s - loss: 0.0120 - val_loss: 0.0102\n",
            "Epoch 17/100\n",
            "247/247 - 1s - loss: 0.0121 - val_loss: 0.0103\n",
            "Epoch 18/100\n",
            "247/247 - 1s - loss: 0.0114 - val_loss: 0.0104\n",
            "Epoch 19/100\n",
            "247/247 - 1s - loss: 0.0120 - val_loss: 0.0102\n",
            "Epoch 20/100\n",
            "247/247 - 1s - loss: 0.0112 - val_loss: 0.0103\n",
            "Epoch 21/100\n",
            "247/247 - 1s - loss: 0.0104 - val_loss: 0.0101\n",
            "Epoch 22/100\n",
            "247/247 - 1s - loss: 0.0120 - val_loss: 0.0100\n",
            "Epoch 23/100\n",
            "247/247 - 1s - loss: 0.0123 - val_loss: 0.0101\n",
            "Epoch 24/100\n",
            "247/247 - 1s - loss: 0.0103 - val_loss: 0.0102\n",
            "Epoch 25/100\n",
            "247/247 - 1s - loss: 0.0109 - val_loss: 0.0095\n",
            "Epoch 26/100\n",
            "247/247 - 1s - loss: 0.0130 - val_loss: 0.0099\n",
            "Epoch 27/100\n",
            "247/247 - 1s - loss: 0.0100 - val_loss: 0.0100\n",
            "Epoch 28/100\n",
            "247/247 - 1s - loss: 0.0114 - val_loss: 0.0100\n",
            "Epoch 29/100\n",
            "247/247 - 1s - loss: 0.0112 - val_loss: 0.0099\n",
            "Epoch 30/100\n",
            "247/247 - 1s - loss: 0.0093 - val_loss: 0.0095\n",
            "Epoch 31/100\n",
            "247/247 - 1s - loss: 0.0113 - val_loss: 0.0097\n",
            "Epoch 32/100\n",
            "247/247 - 1s - loss: 0.0102 - val_loss: 0.0094\n",
            "Epoch 33/100\n",
            "247/247 - 1s - loss: 0.0097 - val_loss: 0.0094\n",
            "Epoch 34/100\n",
            "247/247 - 1s - loss: 0.0097 - val_loss: 0.0094\n",
            "Epoch 35/100\n",
            "247/247 - 1s - loss: 0.0095 - val_loss: 0.0096\n",
            "Epoch 36/100\n",
            "247/247 - 1s - loss: 0.0098 - val_loss: 0.0093\n",
            "Epoch 37/100\n",
            "247/247 - 1s - loss: 0.0108 - val_loss: 0.0096\n",
            "Epoch 38/100\n",
            "247/247 - 1s - loss: 0.0114 - val_loss: 0.0093\n",
            "Epoch 39/100\n",
            "247/247 - 1s - loss: 0.0108 - val_loss: 0.0098\n",
            "Epoch 40/100\n",
            "247/247 - 1s - loss: 0.0105 - val_loss: 0.0098\n",
            "Epoch 41/100\n",
            "247/247 - 1s - loss: 0.0104 - val_loss: 0.0097\n",
            "Epoch 42/100\n",
            "247/247 - 1s - loss: 0.0090 - val_loss: 0.0095\n",
            "Epoch 43/100\n",
            "247/247 - 1s - loss: 0.0097 - val_loss: 0.0097\n",
            "Epoch 44/100\n",
            "247/247 - 1s - loss: 0.0091 - val_loss: 0.0093\n",
            "Epoch 45/100\n",
            "247/247 - 1s - loss: 0.0096 - val_loss: 0.0092\n",
            "Epoch 46/100\n",
            "247/247 - 1s - loss: 0.0101 - val_loss: 0.0094\n",
            "Epoch 47/100\n",
            "247/247 - 1s - loss: 0.0115 - val_loss: 0.0096\n",
            "Epoch 48/100\n",
            "247/247 - 1s - loss: 0.0080 - val_loss: 0.0097\n",
            "Epoch 49/100\n",
            "247/247 - 1s - loss: 0.0107 - val_loss: 0.0096\n",
            "Epoch 50/100\n",
            "247/247 - 1s - loss: 0.0086 - val_loss: 0.0096\n",
            "Epoch 51/100\n",
            "247/247 - 1s - loss: 0.0090 - val_loss: 0.0093\n",
            "Epoch 52/100\n",
            "247/247 - 1s - loss: 0.0097 - val_loss: 0.0093\n",
            "Epoch 53/100\n",
            "247/247 - 1s - loss: 0.0080 - val_loss: 0.0094\n",
            "Epoch 54/100\n",
            "247/247 - 1s - loss: 0.0097 - val_loss: 0.0094\n",
            "Epoch 55/100\n",
            "247/247 - 1s - loss: 0.0080 - val_loss: 0.0094\n",
            "Epoch 56/100\n",
            "247/247 - 1s - loss: 0.0084 - val_loss: 0.0097\n",
            "Epoch 57/100\n",
            "247/247 - 1s - loss: 0.0068 - val_loss: 0.0093\n",
            "Epoch 58/100\n",
            "247/247 - 1s - loss: 0.0103 - val_loss: 0.0100\n",
            "Epoch 59/100\n",
            "247/247 - 1s - loss: 0.0107 - val_loss: 0.0095\n",
            "Epoch 60/100\n",
            "247/247 - 1s - loss: 0.0082 - val_loss: 0.0094\n",
            "Epoch 61/100\n",
            "247/247 - 1s - loss: 0.0090 - val_loss: 0.0095\n",
            "Epoch 62/100\n",
            "247/247 - 1s - loss: 0.0092 - val_loss: 0.0095\n",
            "Epoch 63/100\n",
            "247/247 - 1s - loss: 0.0109 - val_loss: 0.0096\n",
            "Epoch 64/100\n",
            "247/247 - 1s - loss: 0.0085 - val_loss: 0.0098\n",
            "Epoch 65/100\n",
            "247/247 - 1s - loss: 0.0119 - val_loss: 0.0096\n",
            "Epoch 66/100\n",
            "247/247 - 1s - loss: 0.0115 - val_loss: 0.0101\n",
            "Epoch 67/100\n",
            "247/247 - 1s - loss: 0.0080 - val_loss: 0.0097\n",
            "Epoch 68/100\n",
            "247/247 - 1s - loss: 0.0074 - val_loss: 0.0094\n",
            "Epoch 69/100\n",
            "247/247 - 1s - loss: 0.0081 - val_loss: 0.0096\n",
            "Epoch 70/100\n",
            "247/247 - 1s - loss: 0.0086 - val_loss: 0.0095\n",
            "Epoch 71/100\n",
            "247/247 - 1s - loss: 0.0115 - val_loss: 0.0098\n",
            "Epoch 72/100\n",
            "247/247 - 1s - loss: 0.0070 - val_loss: 0.0098\n",
            "Epoch 73/100\n",
            "247/247 - 1s - loss: 0.0066 - val_loss: 0.0095\n",
            "Epoch 74/100\n",
            "247/247 - 1s - loss: 0.0119 - val_loss: 0.0097\n",
            "Epoch 75/100\n",
            "247/247 - 1s - loss: 0.0094 - val_loss: 0.0097\n",
            "Epoch 76/100\n",
            "247/247 - 1s - loss: 0.0077 - val_loss: 0.0094\n",
            "Epoch 77/100\n",
            "247/247 - 1s - loss: 0.0106 - val_loss: 0.0095\n",
            "Epoch 78/100\n",
            "247/247 - 1s - loss: 0.0073 - val_loss: 0.0099\n",
            "Epoch 79/100\n",
            "247/247 - 1s - loss: 0.0111 - val_loss: 0.0096\n",
            "Epoch 80/100\n",
            "247/247 - 1s - loss: 0.0105 - val_loss: 0.0099\n",
            "Epoch 81/100\n",
            "247/247 - 1s - loss: 0.0070 - val_loss: 0.0096\n",
            "Epoch 82/100\n",
            "247/247 - 1s - loss: 0.0088 - val_loss: 0.0100\n",
            "Epoch 83/100\n",
            "247/247 - 1s - loss: 0.0076 - val_loss: 0.0098\n",
            "Epoch 84/100\n",
            "247/247 - 1s - loss: 0.0063 - val_loss: 0.0097\n",
            "Epoch 85/100\n",
            "247/247 - 1s - loss: 0.0111 - val_loss: 0.0105\n",
            "Epoch 86/100\n",
            "247/247 - 1s - loss: 0.0072 - val_loss: 0.0097\n",
            "Epoch 87/100\n",
            "247/247 - 1s - loss: 0.0075 - val_loss: 0.0099\n",
            "Epoch 88/100\n",
            "247/247 - 1s - loss: 0.0073 - val_loss: 0.0099\n",
            "Epoch 89/100\n",
            "247/247 - 1s - loss: 0.0094 - val_loss: 0.0099\n",
            "Epoch 90/100\n",
            "247/247 - 1s - loss: 0.0104 - val_loss: 0.0100\n",
            "Epoch 91/100\n",
            "247/247 - 1s - loss: 0.0092 - val_loss: 0.0099\n",
            "Epoch 92/100\n",
            "247/247 - 1s - loss: 0.0091 - val_loss: 0.0101\n",
            "Epoch 93/100\n",
            "247/247 - 1s - loss: 0.0098 - val_loss: 0.0100\n",
            "Epoch 94/100\n",
            "247/247 - 1s - loss: 0.0083 - val_loss: 0.0099\n",
            "Epoch 95/100\n",
            "247/247 - 1s - loss: 0.0069 - val_loss: 0.0101\n",
            "Epoch 96/100\n",
            "247/247 - 1s - loss: 0.0094 - val_loss: 0.0100\n",
            "Epoch 97/100\n",
            "247/247 - 1s - loss: 0.0093 - val_loss: 0.0099\n",
            "Epoch 98/100\n",
            "247/247 - 1s - loss: 0.0102 - val_loss: 0.0101\n",
            "Epoch 99/100\n",
            "247/247 - 1s - loss: 0.0087 - val_loss: 0.0099\n",
            "Epoch 100/100\n",
            "247/247 - 1s - loss: 0.0081 - val_loss: 0.0099\n"
          ],
          "name": "stdout"
        }
      ]
    },
    {
      "cell_type": "code",
      "metadata": {
        "colab": {
          "base_uri": "https://localhost:8080/"
        },
        "id": "MFCmxAe2PkrB",
        "outputId": "30df15c0-2373-4d6f-8d0a-0d0698638086"
      },
      "source": [
        "model.summary()"
      ],
      "execution_count": 18,
      "outputs": [
        {
          "output_type": "stream",
          "text": [
            "Model: \"sequential\"\n",
            "_________________________________________________________________\n",
            "Layer (type)                 Output Shape              Param #   \n",
            "=================================================================\n",
            "lstm (LSTM)                  (None, 6)                 192       \n",
            "_________________________________________________________________\n",
            "dropout (Dropout)            (None, 6)                 0         \n",
            "_________________________________________________________________\n",
            "dense (Dense)                (None, 1)                 7         \n",
            "=================================================================\n",
            "Total params: 199\n",
            "Trainable params: 199\n",
            "Non-trainable params: 0\n",
            "_________________________________________________________________\n"
          ],
          "name": "stdout"
        }
      ]
    },
    {
      "cell_type": "code",
      "metadata": {
        "colab": {
          "base_uri": "https://localhost:8080/"
        },
        "id": "ZvcKw9O5LNTr",
        "outputId": "2e847332-8f9e-4976-b501-93c5c098f9bc"
      },
      "source": [
        "# Generate predictions\n",
        "train_pred = model.predict(X_train)\n",
        "evaluation = model.evaluate(x=X_test, y=Y_test, verbose=1)\n",
        "test_pred = model.predict(X_test)"
      ],
      "execution_count": 19,
      "outputs": [
        {
          "output_type": "stream",
          "text": [
            "4/4 [==============================] - 0s 5ms/step - loss: 0.0099\n"
          ],
          "name": "stdout"
        }
      ]
    },
    {
      "cell_type": "code",
      "metadata": {
        "id": "6escWDYNCTrt"
      },
      "source": [
        "# De-standardising the output to original value\n",
        "train_pred = scaler.inverse_transform(train_pred)\n",
        "Y_train = scaler.inverse_transform([Y_train])\n",
        "test_pred = scaler.inverse_transform(test_pred)\n",
        "Y_test = scaler.inverse_transform([Y_test])\n",
        "predictions = test_pred"
      ],
      "execution_count": 20,
      "outputs": []
    },
    {
      "cell_type": "code",
      "metadata": {
        "colab": {
          "base_uri": "https://localhost:8080/"
        },
        "id": "D7l1WI70P_9r",
        "outputId": "d6904b10-9aa2-4fa8-9e73-b398311fda84"
      },
      "source": [
        "# Calculating RMSE\n",
        "import math\n",
        "from sklearn.metrics import mean_squared_error\n",
        "trainset = math.sqrt(mean_squared_error(Y_train[0],train_pred[:,0]))\n",
        "testset = math.sqrt(mean_squared_error(Y_test[0],test_pred[:,0]))\n",
        "\n",
        "print(\"The RMSE prediction value on trainset: \",trainset)\n",
        "print(\"The RMSE prediction value on testset: \",testset)"
      ],
      "execution_count": 21,
      "outputs": [
        {
          "output_type": "stream",
          "text": [
            "The RMSE prediction value on trainset:  81.10061778076827\n",
            "The RMSE prediction value on testset:  95.92492530284059\n"
          ],
          "name": "stdout"
        }
      ]
    },
    {
      "cell_type": "code",
      "metadata": {
        "id": "KxvdB_TZpb3E"
      },
      "source": [
        "# Plot train loss and validation loss\n",
        "def plot_loss (history, model_name):\n",
        "    plt.figure(figsize = (10, 6))\n",
        "    plt.plot(history.history['loss'])\n",
        "    plt.plot(history.history['val_loss'])\n",
        "    plt.title('Model Train vs Validation Loss for ' + model_name)\n",
        "    plt.ylabel('Loss')\n",
        "    plt.xlabel('epoch')\n",
        "    plt.legend(['Train loss', 'Validation loss'], loc='upper right')"
      ],
      "execution_count": 22,
      "outputs": []
    },
    {
      "cell_type": "code",
      "metadata": {
        "colab": {
          "base_uri": "https://localhost:8080/",
          "height": 404
        },
        "id": "OSwaU92zk3oC",
        "outputId": "95f4d488-4e45-4f4f-f93d-fb9c8c5d2e6e"
      },
      "source": [
        "plot_loss(history,'LSTM')"
      ],
      "execution_count": 23,
      "outputs": [
        {
          "output_type": "display_data",
          "data": {
            "image/png": "[encoded data removed]",
            "text/plain": [
              "<Figure size 720x432 with 1 Axes>"
            ]
          },
          "metadata": {
            "tags": [],
            "needs_background": "light"
          }
        }
      ]
    }
  ]
}