{
  "nbformat": 4,
  "nbformat_minor": 0,
  "metadata": {
    "colab": {
      "name": "LSTM_24 hour.ipynb",
      "provenance": [],
      "collapsed_sections": []
    },
    "kernelspec": {
      "name": "python3",
      "display_name": "Python 3"
    },
    "language_info": {
      "name": "python"
    }
  },
  "cells": [
    {
      "cell_type": "code",
      "metadata": {
        "id": "1nnWrg0C_GTi"
      },
      "source": [
        "# importing libraries\n",
        "import pandas as pd\n",
        "import matplotlib.pyplot as plt\n",
        "%matplotlib inline\n",
        "import numpy as np\n",
        "import seaborn as sns\n",
        "import matplotlib as mpl\n",
        "from datetime import datetime\n",
        "import plotly.express as px\n",
        "import tensorflow as tf\n",
        "from tensorflow import keras\n",
        "from sklearn.preprocessing import MinMaxScaler\n",
        "from tensorflow.keras.models import Sequential\n",
        "from tensorflow.keras.layers import Dense\n",
        "from tensorflow.keras.layers import LSTM\n",
        "from tensorflow.keras.layers import Dropout"
      ],
      "execution_count": 1,
      "outputs": []
    },
    {
      "cell_type": "code",
      "metadata": {
        "colab": {
          "base_uri": "https://localhost:8080/"
        },
        "id": "a8_vIkwk_NHR",
        "outputId": "72c8a851-3f3a-40bc-ffa7-6b270de12e1d"
      },
      "source": [
        "# Mounting the drive\n",
        "from google.colab import drive\n",
        "drive.mount('/content/gdrive')"
      ],
      "execution_count": 2,
      "outputs": [
        {
          "output_type": "stream",
          "text": [
            "Drive already mounted at /content/gdrive; to attempt to forcibly remount, call drive.mount(\"/content/gdrive\", force_remount=True).\n"
          ],
          "name": "stdout"
        }
      ]
    },
    {
      "cell_type": "code",
      "metadata": {
        "colab": {
          "base_uri": "https://localhost:8080/"
        },
        "id": "AH-4WOWe_dh7",
        "outputId": "90315a8f-4acc-42cd-f196-3c15e3f1f965"
      },
      "source": [
        "ls'/content/gdrive/My Drive/Thesis'"
      ],
      "execution_count": 3,
      "outputs": [
        {
          "output_type": "stream",
          "text": [
            "dataframe_dma_flow_1D.csv     dataframe_flow_variable_1D.csv\n",
            "dataframe_dma_flow_60min.csv  dataframe_flow_variable_60min.csv\n",
            "dataframe_flow_1D.csv         DMA_225.csv\n"
          ],
          "name": "stdout"
        }
      ]
    },
    {
      "cell_type": "code",
      "metadata": {
        "id": "7xWl4LlHABx5"
      },
      "source": [
        "data = pd.read_csv(\"/content/gdrive/My Drive/Thesis/DMA_225.csv\")\n",
        "data['Date-time'] = pd.to_datetime(data['Date-time'], dayfirst=True, errors='coerce')"
      ],
      "execution_count": 4,
      "outputs": []
    },
    {
      "cell_type": "code",
      "metadata": {
        "id": "MKGjxSqaAH_4"
      },
      "source": [
        "data.rename( columns={'Flow':'DMA_225','Date-time':'Date_time'}, inplace=True )"
      ],
      "execution_count": 5,
      "outputs": []
    },
    {
      "cell_type": "code",
      "metadata": {
        "id": "svjnjnk1ALaL"
      },
      "source": [
        "data_DMA225 = data[['Date_time','DMA_225']]"
      ],
      "execution_count": 6,
      "outputs": []
    },
    {
      "cell_type": "code",
      "metadata": {
        "id": "dnkEOb9TAN9q"
      },
      "source": [
        "data_DMA225_indexed = data_DMA225.set_index('Date_time')"
      ],
      "execution_count": 7,
      "outputs": []
    },
    {
      "cell_type": "code",
      "metadata": {
        "colab": {
          "base_uri": "https://localhost:8080/"
        },
        "id": "vkvk9-JfAWfO",
        "outputId": "d632df0b-f070-43db-9700-bd9d0251be11"
      },
      "source": [
        "data_DMA225_indexed.shape"
      ],
      "execution_count": 8,
      "outputs": [
        {
          "output_type": "execute_result",
          "data": {
            "text/plain": [
              "(35040, 1)"
            ]
          },
          "metadata": {
            "tags": []
          },
          "execution_count": 8
        }
      ]
    },
    {
      "cell_type": "code",
      "metadata": {
        "colab": {
          "base_uri": "https://localhost:8080/",
          "height": 228
        },
        "id": "EwmC-DdwAZJI",
        "outputId": "1f574fb4-dcaf-4606-ea4d-f874cf898cce"
      },
      "source": [
        "data_DMA225_indexed.head(5)"
      ],
      "execution_count": 9,
      "outputs": [
        {
          "output_type": "execute_result",
          "data": {
            "text/html": [
              "<div>\n",
              "<style scoped>\n",
              "    .dataframe tbody tr th:only-of-type {\n",
              "        vertical-align: middle;\n",
              "    }\n",
              "\n",
              "    .dataframe tbody tr th {\n",
              "        vertical-align: top;\n",
              "    }\n",
              "\n",
              "    .dataframe thead th {\n",
              "        text-align: right;\n",
              "    }\n",
              "</style>\n",
              "<table border=\"1\" class=\"dataframe\">\n",
              "  <thead>\n",
              "    <tr style=\"text-align: right;\">\n",
              "      <th></th>\n",
              "      <th>DMA_225</th>\n",
              "    </tr>\n",
              "    <tr>\n",
              "      <th>Date_time</th>\n",
              "      <th></th>\n",
              "    </tr>\n",
              "  </thead>\n",
              "  <tbody>\n",
              "    <tr>\n",
              "      <th>2016-04-01 00:00:00</th>\n",
              "      <td>1.444</td>\n",
              "    </tr>\n",
              "    <tr>\n",
              "      <th>2016-04-01 00:15:00</th>\n",
              "      <td>1.444</td>\n",
              "    </tr>\n",
              "    <tr>\n",
              "      <th>2016-04-01 00:30:00</th>\n",
              "      <td>1.333</td>\n",
              "    </tr>\n",
              "    <tr>\n",
              "      <th>2016-04-01 00:45:00</th>\n",
              "      <td>1.222</td>\n",
              "    </tr>\n",
              "    <tr>\n",
              "      <th>2016-04-01 01:00:00</th>\n",
              "      <td>1.111</td>\n",
              "    </tr>\n",
              "  </tbody>\n",
              "</table>\n",
              "</div>"
            ],
            "text/plain": [
              "                     DMA_225\n",
              "Date_time                   \n",
              "2016-04-01 00:00:00    1.444\n",
              "2016-04-01 00:15:00    1.444\n",
              "2016-04-01 00:30:00    1.333\n",
              "2016-04-01 00:45:00    1.222\n",
              "2016-04-01 01:00:00    1.111"
            ]
          },
          "metadata": {
            "tags": []
          },
          "execution_count": 9
        }
      ]
    },
    {
      "cell_type": "markdown",
      "metadata": {
        "id": "RA_1luS5lfmA"
      },
      "source": [
        "Hourly data"
      ]
    },
    {
      "cell_type": "code",
      "metadata": {
        "id": "Pg6QCmxsA28S",
        "colab": {
          "base_uri": "https://localhost:8080/"
        },
        "outputId": "c2f6b9e4-f345-4ac7-f28b-387ab2c696ac"
      },
      "source": [
        "# Making hourly data \n",
        "hourly_data = data_DMA225_indexed.resample('h').sum()\n",
        "\n",
        "hourly_data.isnull().sum().sum()\n",
        "hourly_data.isna().sum().sum()\n",
        "data_hourly = hourly_data.values\n",
        "\n",
        "# Scaling the data \n",
        "scaler = MinMaxScaler()\n",
        "scaled_data = scaler.fit_transform(data_hourly)\n",
        "scaled_hourlydata = pd.DataFrame(scaled_data)\n",
        "\n",
        "# Restructuring the data\n",
        "def reshaped_hourlydata(data,step_input,step_output):\n",
        "  final_data =  np.array([data[i:i + (step_input+step_output)].copy() for i in range(len(data) - (step_input+step_output))])\n",
        "  return final_data\n",
        "\n",
        "final_hourlydata = reshaped_hourlydata(scaled_hourlydata,12,24)\n",
        "final_hourlydata.shape"
      ],
      "execution_count": 10,
      "outputs": [
        {
          "output_type": "execute_result",
          "data": {
            "text/plain": [
              "(8724, 36, 1)"
            ]
          },
          "metadata": {
            "tags": []
          },
          "execution_count": 10
        }
      ]
    },
    {
      "cell_type": "markdown",
      "metadata": {
        "id": "aUI-Z6HFlkkW"
      },
      "source": [
        "Train test split using cross validation"
      ]
    },
    {
      "cell_type": "code",
      "metadata": {
        "id": "JCMgckXyIOWq",
        "colab": {
          "base_uri": "https://localhost:8080/"
        },
        "outputId": "eb1eb69e-d2ae-4257-e9fc-d16a34a32291"
      },
      "source": [
        "# The dataset is divided to 60% training set and the remaining 40% into validation and testing set.\n",
        "train_size = int(len(final_hourlydata)*0.6)\n",
        "remaining_data = len(final_hourlydata) - train_size\n",
        "# With the remaining data 70% is considered for validation set and 30% for test set.\n",
        "validation_data = int((remaining_data)*0.7)\n",
        "testing_data = remaining_data-validation_data\n",
        "valid_size = (train_size)+(validation_data)\n",
        "\n",
        "#  Restructing the dataset:\n",
        "step_input = 12\n",
        "step_output = 24\n",
        "train_X = final_hourlydata[:train_size, :step_input]\n",
        "valid_X = final_hourlydata[train_size:valid_size, :step_input]\n",
        "test_X = final_hourlydata[valid_size:, :step_input]\n",
        "y = np.empty((len(final_hourlydata), step_input, step_output))\n",
        "for future_value in range(1, step_output + 1):\n",
        "    y[..., future_value - 1] = final_hourlydata[..., future_value:future_value + step_input, 0]\n",
        "train_y = y[:train_size]\n",
        "valid_y = y[train_size:valid_size]\n",
        "test_y = y[valid_size:]\n",
        "\n",
        "print(\"The shape of train_X is:\",train_X.shape)\n",
        "print(\"The shape of valid_X is:\",valid_X.shape)\n",
        "print(\"The shape of test_X is:\",test_X.shape)"
      ],
      "execution_count": 11,
      "outputs": [
        {
          "output_type": "stream",
          "text": [
            "The shape of train_X is: (5234, 12, 1)\n",
            "The shape of valid_X is: (2443, 12, 1)\n",
            "The shape of test_X is: (1047, 12, 1)\n"
          ],
          "name": "stdout"
        }
      ]
    },
    {
      "cell_type": "markdown",
      "metadata": {
        "id": "ZBQOMY3Il0hK"
      },
      "source": [
        "LSTM "
      ]
    },
    {
      "cell_type": "code",
      "metadata": {
        "colab": {
          "base_uri": "https://localhost:8080/"
        },
        "id": "SG4UqoqNUzVk",
        "outputId": "66332d06-b60e-460e-b52f-03271ee65b43"
      },
      "source": [
        "model = tf.keras.Sequential()\n",
        "model.add(LSTM(40, activation = 'relu',return_sequences=True,input_shape=(None, 1)))\n",
        "model.add(Dropout(0.5))\n",
        "model.add(Dense(24))\n",
        "opt = keras.optimizers.SGD(learning_rate=0.01)\n",
        "model.compile(loss=\"mse\", optimizer=opt)\n",
        "history = model.fit(train_X, train_y, epochs=50,validation_data=(valid_X, valid_y))"
      ],
      "execution_count": 12,
      "outputs": [
        {
          "output_type": "stream",
          "text": [
            "Epoch 1/50\n",
            "164/164 [==============================] - 3s 11ms/step - loss: 0.0067 - val_loss: 0.0033\n",
            "Epoch 2/50\n",
            "164/164 [==============================] - 1s 8ms/step - loss: 0.0058 - val_loss: 0.0026\n",
            "Epoch 3/50\n",
            "164/164 [==============================] - 1s 7ms/step - loss: 0.0045 - val_loss: 0.0022\n",
            "Epoch 4/50\n",
            "164/164 [==============================] - 1s 7ms/step - loss: 0.0040 - val_loss: 0.0019\n",
            "Epoch 5/50\n",
            "164/164 [==============================] - 1s 7ms/step - loss: 0.0033 - val_loss: 0.0017\n",
            "Epoch 6/50\n",
            "164/164 [==============================] - 1s 7ms/step - loss: 0.0030 - val_loss: 0.0016\n",
            "Epoch 7/50\n",
            "164/164 [==============================] - 1s 7ms/step - loss: 0.0027 - val_loss: 0.0015\n",
            "Epoch 8/50\n",
            "164/164 [==============================] - 1s 7ms/step - loss: 0.0027 - val_loss: 0.0015\n",
            "Epoch 9/50\n",
            "164/164 [==============================] - 1s 7ms/step - loss: 0.0022 - val_loss: 0.0014\n",
            "Epoch 10/50\n",
            "164/164 [==============================] - 1s 7ms/step - loss: 0.0022 - val_loss: 0.0014\n",
            "Epoch 11/50\n",
            "164/164 [==============================] - 1s 7ms/step - loss: 0.0023 - val_loss: 0.0015\n",
            "Epoch 12/50\n",
            "164/164 [==============================] - 1s 8ms/step - loss: 0.0021 - val_loss: 0.0015\n",
            "Epoch 13/50\n",
            "164/164 [==============================] - 1s 7ms/step - loss: 0.0020 - val_loss: 0.0015\n",
            "Epoch 14/50\n",
            "164/164 [==============================] - 1s 7ms/step - loss: 0.0019 - val_loss: 0.0015\n",
            "Epoch 15/50\n",
            "164/164 [==============================] - 1s 7ms/step - loss: 0.0020 - val_loss: 0.0015\n",
            "Epoch 16/50\n",
            "164/164 [==============================] - 1s 7ms/step - loss: 0.0022 - val_loss: 0.0016\n",
            "Epoch 17/50\n",
            "164/164 [==============================] - 1s 8ms/step - loss: 0.0019 - val_loss: 0.0016\n",
            "Epoch 18/50\n",
            "164/164 [==============================] - 1s 7ms/step - loss: 0.0018 - val_loss: 0.0016\n",
            "Epoch 19/50\n",
            "164/164 [==============================] - 1s 7ms/step - loss: 0.0019 - val_loss: 0.0016\n",
            "Epoch 20/50\n",
            "164/164 [==============================] - 1s 7ms/step - loss: 0.0020 - val_loss: 0.0016\n",
            "Epoch 21/50\n",
            "164/164 [==============================] - 1s 7ms/step - loss: 0.0018 - val_loss: 0.0017\n",
            "Epoch 22/50\n",
            "164/164 [==============================] - 1s 7ms/step - loss: 0.0020 - val_loss: 0.0017\n",
            "Epoch 23/50\n",
            "164/164 [==============================] - 1s 7ms/step - loss: 0.0020 - val_loss: 0.0017\n",
            "Epoch 24/50\n",
            "164/164 [==============================] - 1s 7ms/step - loss: 0.0018 - val_loss: 0.0017\n",
            "Epoch 25/50\n",
            "164/164 [==============================] - 1s 8ms/step - loss: 0.0017 - val_loss: 0.0017\n",
            "Epoch 26/50\n",
            "164/164 [==============================] - 1s 7ms/step - loss: 0.0020 - val_loss: 0.0017\n",
            "Epoch 27/50\n",
            "164/164 [==============================] - 1s 8ms/step - loss: 0.0019 - val_loss: 0.0017\n",
            "Epoch 28/50\n",
            "164/164 [==============================] - 1s 8ms/step - loss: 0.0020 - val_loss: 0.0017\n",
            "Epoch 29/50\n",
            "164/164 [==============================] - 1s 8ms/step - loss: 0.0019 - val_loss: 0.0017\n",
            "Epoch 30/50\n",
            "164/164 [==============================] - 1s 7ms/step - loss: 0.0018 - val_loss: 0.0017\n",
            "Epoch 31/50\n",
            "164/164 [==============================] - 1s 7ms/step - loss: 0.0019 - val_loss: 0.0017\n",
            "Epoch 32/50\n",
            "164/164 [==============================] - 1s 7ms/step - loss: 0.0019 - val_loss: 0.0017\n",
            "Epoch 33/50\n",
            "164/164 [==============================] - 1s 7ms/step - loss: 0.0020 - val_loss: 0.0017\n",
            "Epoch 34/50\n",
            "164/164 [==============================] - 1s 8ms/step - loss: 0.0019 - val_loss: 0.0018\n",
            "Epoch 35/50\n",
            "164/164 [==============================] - 1s 8ms/step - loss: 0.0019 - val_loss: 0.0018\n",
            "Epoch 36/50\n",
            "164/164 [==============================] - 1s 8ms/step - loss: 0.0020 - val_loss: 0.0018\n",
            "Epoch 37/50\n",
            "164/164 [==============================] - 1s 7ms/step - loss: 0.0019 - val_loss: 0.0018\n",
            "Epoch 38/50\n",
            "164/164 [==============================] - 1s 7ms/step - loss: 0.0018 - val_loss: 0.0018\n",
            "Epoch 39/50\n",
            "164/164 [==============================] - 1s 8ms/step - loss: 0.0019 - val_loss: 0.0018\n",
            "Epoch 40/50\n",
            "164/164 [==============================] - 1s 7ms/step - loss: 0.0019 - val_loss: 0.0018\n",
            "Epoch 41/50\n",
            "164/164 [==============================] - 1s 8ms/step - loss: 0.0017 - val_loss: 0.0018\n",
            "Epoch 42/50\n",
            "164/164 [==============================] - 1s 7ms/step - loss: 0.0019 - val_loss: 0.0018\n",
            "Epoch 43/50\n",
            "164/164 [==============================] - 1s 7ms/step - loss: 0.0021 - val_loss: 0.0018\n",
            "Epoch 44/50\n",
            "164/164 [==============================] - 1s 7ms/step - loss: 0.0019 - val_loss: 0.0018\n",
            "Epoch 45/50\n",
            "164/164 [==============================] - 1s 7ms/step - loss: 0.0019 - val_loss: 0.0018\n",
            "Epoch 46/50\n",
            "164/164 [==============================] - 1s 7ms/step - loss: 0.0017 - val_loss: 0.0018\n",
            "Epoch 47/50\n",
            "164/164 [==============================] - 1s 7ms/step - loss: 0.0018 - val_loss: 0.0018\n",
            "Epoch 48/50\n",
            "164/164 [==============================] - 1s 8ms/step - loss: 0.0018 - val_loss: 0.0018\n",
            "Epoch 49/50\n",
            "164/164 [==============================] - 1s 8ms/step - loss: 0.0018 - val_loss: 0.0018\n",
            "Epoch 50/50\n",
            "164/164 [==============================] - 1s 8ms/step - loss: 0.0019 - val_loss: 0.0018\n"
          ],
          "name": "stdout"
        }
      ]
    },
    {
      "cell_type": "code",
      "metadata": {
        "colab": {
          "base_uri": "https://localhost:8080/"
        },
        "id": "37xirUkYY7Cc",
        "outputId": "66f6a667-ef01-4b29-e9ed-c6314a4ae768"
      },
      "source": [
        "model.summary()"
      ],
      "execution_count": 13,
      "outputs": [
        {
          "output_type": "stream",
          "text": [
            "Model: \"sequential\"\n",
            "_________________________________________________________________\n",
            "Layer (type)                 Output Shape              Param #   \n",
            "=================================================================\n",
            "lstm (LSTM)                  (None, None, 40)          6720      \n",
            "_________________________________________________________________\n",
            "dropout (Dropout)            (None, None, 40)          0         \n",
            "_________________________________________________________________\n",
            "dense (Dense)                (None, None, 24)          984       \n",
            "=================================================================\n",
            "Total params: 7,704\n",
            "Trainable params: 7,704\n",
            "Non-trainable params: 0\n",
            "_________________________________________________________________\n"
          ],
          "name": "stdout"
        }
      ]
    },
    {
      "cell_type": "code",
      "metadata": {
        "id": "FuCG43LhV3MX"
      },
      "source": [
        "# Plot train loss and validation loss\n",
        "def plot_loss (history, model_name):\n",
        "    plt.figure(figsize = (10, 6))\n",
        "    plt.plot(history.history['loss'])\n",
        "    plt.plot(history.history['val_loss'])\n",
        "    plt.title('Model Train vs Validation Loss for ' + model_name)\n",
        "    plt.ylabel('Loss')\n",
        "    plt.xlabel('epoch')\n",
        "    plt.legend(['Train loss', 'Validation loss'], loc='upper right')"
      ],
      "execution_count": 14,
      "outputs": []
    },
    {
      "cell_type": "code",
      "metadata": {
        "colab": {
          "base_uri": "https://localhost:8080/",
          "height": 404
        },
        "id": "HR6FRwSJWa1D",
        "outputId": "d0b9f72d-16b9-4a48-a93b-4e1b205e6eb6"
      },
      "source": [
        "plot_loss(history,'LSTM')"
      ],
      "execution_count": 15,
      "outputs": [
        {
          "output_type": "display_data",
          "data": {
            "image/png": "[encoded data removed]",
            "text/plain": [
              "<Figure size 720x432 with 1 Axes>"
            ]
          },
          "metadata": {
            "tags": [],
            "needs_background": "light"
          }
        }
      ]
    },
    {
      "cell_type": "code",
      "metadata": {
        "id": "n_gTrjSkWdVm"
      },
      "source": [
        "#Generate predictions\n",
        "train_pred = model.predict(train_X)\n",
        "#evaluation = model.evaluate(x=X_test, y=y_test, verbose=1)\n",
        "test_pred = model.predict(test_X)\n",
        "predictions = test_pred"
      ],
      "execution_count": 16,
      "outputs": []
    },
    {
      "cell_type": "code",
      "metadata": {
        "id": "TWsVqpI2aJb-"
      },
      "source": [
        "# To make a dataframe of original and predicted value:\n",
        "lstm_df=[]\n",
        "for i in range (0, len(predictions)):\n",
        "  lstm_df.append((predictions[i][0][step_output-1]))\n",
        "final_df = pd.DataFrame((test_X[:,0]))\n",
        "final_df.rename(columns = {0:'original_value'}, inplace = True)\n",
        "final_df['predicted_value'] = lstm_df\n"
      ],
      "execution_count": 17,
      "outputs": []
    },
    {
      "cell_type": "code",
      "metadata": {
        "colab": {
          "base_uri": "https://localhost:8080/",
          "height": 138
        },
        "id": "IzJCyTRWfcRz",
        "outputId": "47092421-b946-4473-e0e0-fda84e206f23"
      },
      "source": [
        "final_df.head(3)"
      ],
      "execution_count": 18,
      "outputs": [
        {
          "output_type": "execute_result",
          "data": {
            "text/html": [
              "<div>\n",
              "<style scoped>\n",
              "    .dataframe tbody tr th:only-of-type {\n",
              "        vertical-align: middle;\n",
              "    }\n",
              "\n",
              "    .dataframe tbody tr th {\n",
              "        vertical-align: top;\n",
              "    }\n",
              "\n",
              "    .dataframe thead th {\n",
              "        text-align: right;\n",
              "    }\n",
              "</style>\n",
              "<table border=\"1\" class=\"dataframe\">\n",
              "  <thead>\n",
              "    <tr style=\"text-align: right;\">\n",
              "      <th></th>\n",
              "      <th>original_value</th>\n",
              "      <th>predicted_value</th>\n",
              "    </tr>\n",
              "  </thead>\n",
              "  <tbody>\n",
              "    <tr>\n",
              "      <th>0</th>\n",
              "      <td>0.029934</td>\n",
              "      <td>0.070802</td>\n",
              "    </tr>\n",
              "    <tr>\n",
              "      <th>1</th>\n",
              "      <td>0.031808</td>\n",
              "      <td>0.070805</td>\n",
              "    </tr>\n",
              "    <tr>\n",
              "      <th>2</th>\n",
              "      <td>0.024319</td>\n",
              "      <td>0.070833</td>\n",
              "    </tr>\n",
              "  </tbody>\n",
              "</table>\n",
              "</div>"
            ],
            "text/plain": [
              "   original_value  predicted_value\n",
              "0        0.029934         0.070802\n",
              "1        0.031808         0.070805\n",
              "2        0.024319         0.070833"
            ]
          },
          "metadata": {
            "tags": []
          },
          "execution_count": 18
        }
      ]
    },
    {
      "cell_type": "code",
      "metadata": {
        "id": "jZ01gyp-e5UZ"
      },
      "source": [
        "# To calculate the percentage difference between actual and predicted value:\n",
        "final_df['total_difference'] = (final_df['predicted_value'] - final_df['original_value']).abs()\n",
        "final_df['percentage_difference'] = ((final_df['total_difference'])/(final_df['original_value']))*100"
      ],
      "execution_count": 19,
      "outputs": []
    },
    {
      "cell_type": "code",
      "metadata": {
        "colab": {
          "base_uri": "https://localhost:8080/"
        },
        "id": "ElMDseInbkoq",
        "outputId": "a8d4fb04-389c-4d4d-8f49-d50fa76eb51b"
      },
      "source": [
        "import math\n",
        "from sklearn.metrics import mean_squared_error\n",
        "testset = math.sqrt(mean_squared_error(final_df['original_value'], final_df['predicted_value']))\n",
        "print(\"The RMSE prediction value on testset: \",testset)"
      ],
      "execution_count": 20,
      "outputs": [
        {
          "output_type": "stream",
          "text": [
            "The RMSE prediction value on testset:  0.04157772354359416\n"
          ],
          "name": "stdout"
        }
      ]
    },
    {
      "cell_type": "code",
      "metadata": {
        "id": "UCZcbp-BZW8M"
      },
      "source": [
        "#import math\n",
        "#from sklearn.metrics import mean_squared_error\n",
        "#X_test[:,0],Y_pred[:,0]\n",
        "#testset = math.sqrt(mean_squared_error(test_y[:,0],predictions[:,0]))"
      ],
      "execution_count": 21,
      "outputs": []
    },
    {
      "cell_type": "code",
      "metadata": {
        "id": "kHtDWf3Fj7WQ"
      },
      "source": [
        ""
      ],
      "execution_count": 21,
      "outputs": []
    }
  ]
}