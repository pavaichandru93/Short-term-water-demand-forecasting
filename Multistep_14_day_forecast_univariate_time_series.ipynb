{
  "nbformat": 4,
  "nbformat_minor": 0,
  "metadata": {
    "colab": {
      "name": " Multistep 14 day forecast - univariate time series.ipynb",
      "provenance": [],
      "collapsed_sections": []
    },
    "kernelspec": {
      "name": "python3",
      "display_name": "Python 3"
    },
    "language_info": {
      "name": "python"
    }
  },
  "cells": [
    {
      "cell_type": "code",
      "metadata": {
        "id": "f0YuR0p03nMR"
      },
      "source": [
        "# importing libraries\n",
        "import pandas as pd\n",
        "import matplotlib.pyplot as plt\n",
        "%matplotlib inline\n",
        "import numpy as np\n",
        "import seaborn as sns\n",
        "import matplotlib as mpl\n",
        "from datetime import datetime\n",
        "import plotly.express as px\n",
        "import tensorflow as tf\n",
        "from sklearn.preprocessing import MinMaxScaler\n",
        "from tensorflow.keras.models import Sequential\n",
        "from tensorflow.keras.layers import Dense\n",
        "from tensorflow.keras.layers import LSTM\n",
        "from tensorflow.keras.callbacks import EarlyStopping\n",
        "from tensorflow.keras.layers import Dropout"
      ],
      "execution_count": 1,
      "outputs": []
    },
    {
      "cell_type": "code",
      "metadata": {
        "colab": {
          "base_uri": "https://localhost:8080/"
        },
        "id": "1ZYZogUi4JcN",
        "outputId": "57dd51cb-e647-44eb-dbf1-9100f7a4ffb4"
      },
      "source": [
        "# Mounting the drive\n",
        "from google.colab import drive\n",
        "drive.mount('/content/gdrive')"
      ],
      "execution_count": 2,
      "outputs": [
        {
          "output_type": "stream",
          "text": [
            "Drive already mounted at /content/gdrive; to attempt to forcibly remount, call drive.mount(\"/content/gdrive\", force_remount=True).\n"
          ],
          "name": "stdout"
        }
      ]
    },
    {
      "cell_type": "code",
      "metadata": {
        "colab": {
          "base_uri": "https://localhost:8080/"
        },
        "id": "OmNbZ-P24TWh",
        "outputId": "ebaedfa9-706b-412b-e990-2e66dcf9c679"
      },
      "source": [
        "ls'/content/gdrive/My Drive/Thesis'"
      ],
      "execution_count": 3,
      "outputs": [
        {
          "output_type": "stream",
          "text": [
            "dataframe_dma_flow_1D.csv     dataframe_flow_variable_1D.csv\n",
            "dataframe_dma_flow_60min.csv  dataframe_flow_variable_60min.csv\n",
            "dataframe_flow_1D.csv         DMA_225.csv\n"
          ],
          "name": "stdout"
        }
      ]
    },
    {
      "cell_type": "code",
      "metadata": {
        "id": "DyUho8bK4eYp"
      },
      "source": [
        "data = pd.read_csv(\"/content/gdrive/My Drive/Thesis/DMA_225.csv\")\n",
        "data['Date-time'] = pd.to_datetime(data['Date-time'], dayfirst=True, errors='coerce')"
      ],
      "execution_count": 4,
      "outputs": []
    },
    {
      "cell_type": "code",
      "metadata": {
        "id": "1xHyclFt4gnw"
      },
      "source": [
        "data.rename( columns={'Flow':'DMA_225','Date-time':'Date_time'}, inplace=True )"
      ],
      "execution_count": 5,
      "outputs": []
    },
    {
      "cell_type": "code",
      "metadata": {
        "id": "Bouz3sBF4jVp"
      },
      "source": [
        "data_DMA225 = data[['Date_time','DMA_225']]"
      ],
      "execution_count": 6,
      "outputs": []
    },
    {
      "cell_type": "code",
      "metadata": {
        "id": "roU9w46G4lk9"
      },
      "source": [
        "data_DMA225_indexed = data_DMA225.set_index('Date_time')"
      ],
      "execution_count": 7,
      "outputs": []
    },
    {
      "cell_type": "code",
      "metadata": {
        "colab": {
          "base_uri": "https://localhost:8080/"
        },
        "id": "yRsYML964oql",
        "outputId": "2cc1a43d-5528-4d3e-fc97-2e2cf36a78c6"
      },
      "source": [
        "# Sampling the data into daily sum.\n",
        "dd = data_DMA225_indexed.resample('D').sum()\n",
        "dd.shape"
      ],
      "execution_count": 8,
      "outputs": [
        {
          "output_type": "execute_result",
          "data": {
            "text/plain": [
              "(365, 1)"
            ]
          },
          "metadata": {
            "tags": []
          },
          "execution_count": 8
        }
      ]
    },
    {
      "cell_type": "code",
      "metadata": {
        "colab": {
          "base_uri": "https://localhost:8080/",
          "height": 450
        },
        "id": "YbzjM4ZmHG0C",
        "outputId": "362c6645-38c8-4f39-d04c-a9d26b08a11e"
      },
      "source": [
        "dd"
      ],
      "execution_count": 9,
      "outputs": [
        {
          "output_type": "execute_result",
          "data": {
            "text/html": [
              "<div>\n",
              "<style scoped>\n",
              "    .dataframe tbody tr th:only-of-type {\n",
              "        vertical-align: middle;\n",
              "    }\n",
              "\n",
              "    .dataframe tbody tr th {\n",
              "        vertical-align: top;\n",
              "    }\n",
              "\n",
              "    .dataframe thead th {\n",
              "        text-align: right;\n",
              "    }\n",
              "</style>\n",
              "<table border=\"1\" class=\"dataframe\">\n",
              "  <thead>\n",
              "    <tr style=\"text-align: right;\">\n",
              "      <th></th>\n",
              "      <th>DMA_225</th>\n",
              "    </tr>\n",
              "    <tr>\n",
              "      <th>Date_time</th>\n",
              "      <th></th>\n",
              "    </tr>\n",
              "  </thead>\n",
              "  <tbody>\n",
              "    <tr>\n",
              "      <th>2016-04-01</th>\n",
              "      <td>354.219001</td>\n",
              "    </tr>\n",
              "    <tr>\n",
              "      <th>2016-04-02</th>\n",
              "      <td>313.328000</td>\n",
              "    </tr>\n",
              "    <tr>\n",
              "      <th>2016-04-03</th>\n",
              "      <td>303.778001</td>\n",
              "    </tr>\n",
              "    <tr>\n",
              "      <th>2016-04-04</th>\n",
              "      <td>310.109000</td>\n",
              "    </tr>\n",
              "    <tr>\n",
              "      <th>2016-04-05</th>\n",
              "      <td>294.445000</td>\n",
              "    </tr>\n",
              "    <tr>\n",
              "      <th>...</th>\n",
              "      <td>...</td>\n",
              "    </tr>\n",
              "    <tr>\n",
              "      <th>2017-03-27</th>\n",
              "      <td>212.222000</td>\n",
              "    </tr>\n",
              "    <tr>\n",
              "      <th>2017-03-28</th>\n",
              "      <td>177.217999</td>\n",
              "    </tr>\n",
              "    <tr>\n",
              "      <th>2017-03-29</th>\n",
              "      <td>177.221000</td>\n",
              "    </tr>\n",
              "    <tr>\n",
              "      <th>2017-03-30</th>\n",
              "      <td>193.332001</td>\n",
              "    </tr>\n",
              "    <tr>\n",
              "      <th>2017-03-31</th>\n",
              "      <td>191.109001</td>\n",
              "    </tr>\n",
              "  </tbody>\n",
              "</table>\n",
              "<p>365 rows × 1 columns</p>\n",
              "</div>"
            ],
            "text/plain": [
              "               DMA_225\n",
              "Date_time             \n",
              "2016-04-01  354.219001\n",
              "2016-04-02  313.328000\n",
              "2016-04-03  303.778001\n",
              "2016-04-04  310.109000\n",
              "2016-04-05  294.445000\n",
              "...                ...\n",
              "2017-03-27  212.222000\n",
              "2017-03-28  177.217999\n",
              "2017-03-29  177.221000\n",
              "2017-03-30  193.332001\n",
              "2017-03-31  191.109001\n",
              "\n",
              "[365 rows x 1 columns]"
            ]
          },
          "metadata": {
            "tags": []
          },
          "execution_count": 9
        }
      ]
    },
    {
      "cell_type": "code",
      "metadata": {
        "id": "D-1ozKX344iv"
      },
      "source": [
        "\n",
        "# Split train data and test data\n",
        "train_size = int(len(dd)*0.7)\n",
        "\n",
        "#train_data = df.WC.loc[:train_size] -----> it gives a series\n",
        "# Do not forget use iloc to select a number of rows\n",
        "train_data = dd.iloc[:train_size]\n",
        "test_data = dd.iloc[train_size:]"
      ],
      "execution_count": 10,
      "outputs": []
    },
    {
      "cell_type": "code",
      "metadata": {
        "colab": {
          "base_uri": "https://localhost:8080/"
        },
        "id": "VwXoAgCCGIBv",
        "outputId": "b2e06569-1dd4-4f8a-87cc-fdc328643207"
      },
      "source": [
        "train_data.shape"
      ],
      "execution_count": 11,
      "outputs": [
        {
          "output_type": "execute_result",
          "data": {
            "text/plain": [
              "(255, 1)"
            ]
          },
          "metadata": {
            "tags": []
          },
          "execution_count": 11
        }
      ]
    },
    {
      "cell_type": "code",
      "metadata": {
        "colab": {
          "base_uri": "https://localhost:8080/"
        },
        "id": "Go2bsM_wjgNG",
        "outputId": "509b818a-e6c2-4168-f71e-d27cefb06f51"
      },
      "source": [
        "test_data.shape"
      ],
      "execution_count": 12,
      "outputs": [
        {
          "output_type": "execute_result",
          "data": {
            "text/plain": [
              "(110, 1)"
            ]
          },
          "metadata": {
            "tags": []
          },
          "execution_count": 12
        }
      ]
    },
    {
      "cell_type": "code",
      "metadata": {
        "id": "9F7U_nNbjqnO"
      },
      "source": [
        "scaler = MinMaxScaler(feature_range=(0, 1))\n",
        "train_scaled = scaler.fit_transform(train_data)\n",
        "test_scaled = scaler.fit_transform(test_data)\n"
      ],
      "execution_count": 13,
      "outputs": []
    },
    {
      "cell_type": "markdown",
      "metadata": {
        "id": "TVpMZ1jGxgNh"
      },
      "source": [
        "# Multistep time series forecasting\n",
        "\n",
        "Here look_back or timesteps = 14 and so the model makes predictions based on the last 14-day data (the input carries the first 14 days, in the first iteration of the for-loop, and the output is water demand on the 14th day)."
      ]
    },
    {
      "cell_type": "markdown",
      "metadata": {
        "id": "1bGkPSkKxX7G"
      },
      "source": [
        ""
      ]
    },
    {
      "cell_type": "code",
      "metadata": {
        "id": "zN_wyMh1qRew"
      },
      "source": [
        "def matrix_dataset(array_dataset, timesteps=1):\n",
        " mat_X, mat_Y = [], []\n",
        " for i in range(len(array_dataset)-timesteps-1):\n",
        "  Z = i+timesteps\n",
        "  m = array_dataset[i:Z, 0]\n",
        "  mat_X.append(m)\n",
        "  n = array_dataset[Z, 0]\n",
        "  mat_Y.append(n)\n",
        " return np.array(mat_X), np.array( mat_Y)\n",
        "\n",
        "\n",
        "look_back = 14\n",
        "features = 1\n",
        "X_train1, Y_train1 = matrix_dataset(train_scaled, look_back)\n",
        "X_test1, Y_test1 = matrix_dataset(test_scaled, look_back)"
      ],
      "execution_count": 14,
      "outputs": []
    },
    {
      "cell_type": "code",
      "metadata": {
        "colab": {
          "base_uri": "https://localhost:8080/"
        },
        "id": "jLRrKwD3r4yw",
        "outputId": "d6dc6d52-4098-495a-b90b-3c6959583b15"
      },
      "source": [
        "X_train1.shape"
      ],
      "execution_count": 15,
      "outputs": [
        {
          "output_type": "execute_result",
          "data": {
            "text/plain": [
              "(240, 14)"
            ]
          },
          "metadata": {
            "tags": []
          },
          "execution_count": 15
        }
      ]
    },
    {
      "cell_type": "code",
      "metadata": {
        "id": "CUGMqnd3qs7i"
      },
      "source": [
        "X_train1 = X_train1.reshape((X_train1.shape[0],X_train1.shape[1],1))\n",
        "X_test1 = X_test1.reshape( (X_test1.shape[0],X_test1.shape[1],1))"
      ],
      "execution_count": 16,
      "outputs": []
    },
    {
      "cell_type": "code",
      "metadata": {
        "colab": {
          "base_uri": "https://localhost:8080/"
        },
        "id": "U5G56VdurVOf",
        "outputId": "53e5080d-34b5-4bd2-c494-427483901f19"
      },
      "source": [
        "X_train1.shape"
      ],
      "execution_count": 17,
      "outputs": [
        {
          "output_type": "execute_result",
          "data": {
            "text/plain": [
              "(240, 14, 1)"
            ]
          },
          "metadata": {
            "tags": []
          },
          "execution_count": 17
        }
      ]
    },
    {
      "cell_type": "code",
      "metadata": {
        "colab": {
          "base_uri": "https://localhost:8080/"
        },
        "id": "FTtCup0draiK",
        "outputId": "282e9d28-3015-49e1-92c2-85825aa90ba5"
      },
      "source": [
        "X_test1.shape"
      ],
      "execution_count": 18,
      "outputs": [
        {
          "output_type": "execute_result",
          "data": {
            "text/plain": [
              "(95, 14, 1)"
            ]
          },
          "metadata": {
            "tags": []
          },
          "execution_count": 18
        }
      ]
    },
    {
      "cell_type": "code",
      "metadata": {
        "colab": {
          "base_uri": "https://localhost:8080/"
        },
        "id": "cg-CAiUykchJ",
        "outputId": "2d28cfee-107e-4b52-af70-c527e4311c86"
      },
      "source": [
        "\n",
        "model = tf.keras.Sequential()\n",
        "model.add(LSTM(40, activation = 'relu',input_shape=(look_back,features)))\n",
        "model.add(Dropout(0.9))\n",
        "model.add(Dense(14))\n",
        "model.compile(loss='mean_squared_error', optimizer='adam')\n",
        "#history=model.fit(X_train1, Y_train1, validation_data=(X_test1,Y_test1),shuffle=False, epochs=100, batch_size=1, verbose=2)\n",
        "history=model.fit(X_train1,Y_train1,validation_data=(X_test1,Y_test1),epochs=100,batch_size=1, \n",
        "                    callbacks=[EarlyStopping(monitor='val_loss', patience=10)], verbose=2, shuffle=False)"
      ],
      "execution_count": 30,
      "outputs": [
        {
          "output_type": "stream",
          "text": [
            "Epoch 1/100\n",
            "240/240 - 2s - loss: 0.0144 - val_loss: 0.0131\n",
            "Epoch 2/100\n",
            "240/240 - 1s - loss: 0.0143 - val_loss: 0.0132\n",
            "Epoch 3/100\n",
            "240/240 - 1s - loss: 0.0133 - val_loss: 0.0135\n",
            "Epoch 4/100\n",
            "240/240 - 1s - loss: 0.0135 - val_loss: 0.0131\n",
            "Epoch 5/100\n",
            "240/240 - 1s - loss: 0.0134 - val_loss: 0.0131\n",
            "Epoch 6/100\n",
            "240/240 - 1s - loss: 0.0133 - val_loss: 0.0125\n",
            "Epoch 7/100\n",
            "240/240 - 1s - loss: 0.0136 - val_loss: 0.0126\n",
            "Epoch 8/100\n",
            "240/240 - 1s - loss: 0.0125 - val_loss: 0.0123\n",
            "Epoch 9/100\n",
            "240/240 - 1s - loss: 0.0132 - val_loss: 0.0127\n",
            "Epoch 10/100\n",
            "240/240 - 1s - loss: 0.0130 - val_loss: 0.0126\n",
            "Epoch 11/100\n",
            "240/240 - 1s - loss: 0.0125 - val_loss: 0.0119\n",
            "Epoch 12/100\n",
            "240/240 - 1s - loss: 0.0116 - val_loss: 0.0118\n",
            "Epoch 13/100\n",
            "240/240 - 1s - loss: 0.0121 - val_loss: 0.0118\n",
            "Epoch 14/100\n",
            "240/240 - 1s - loss: 0.0123 - val_loss: 0.0119\n",
            "Epoch 15/100\n",
            "240/240 - 1s - loss: 0.0114 - val_loss: 0.0115\n",
            "Epoch 16/100\n",
            "240/240 - 1s - loss: 0.0139 - val_loss: 0.0121\n",
            "Epoch 17/100\n",
            "240/240 - 1s - loss: 0.0111 - val_loss: 0.0120\n",
            "Epoch 18/100\n",
            "240/240 - 1s - loss: 0.0102 - val_loss: 0.0115\n",
            "Epoch 19/100\n",
            "240/240 - 1s - loss: 0.0122 - val_loss: 0.0118\n",
            "Epoch 20/100\n",
            "240/240 - 1s - loss: 0.0128 - val_loss: 0.0121\n",
            "Epoch 21/100\n",
            "240/240 - 1s - loss: 0.0144 - val_loss: 0.0123\n",
            "Epoch 22/100\n",
            "240/240 - 1s - loss: 0.0129 - val_loss: 0.0121\n",
            "Epoch 23/100\n",
            "240/240 - 1s - loss: 0.0110 - val_loss: 0.0122\n",
            "Epoch 24/100\n",
            "240/240 - 1s - loss: 0.0139 - val_loss: 0.0119\n",
            "Epoch 25/100\n",
            "240/240 - 1s - loss: 0.0125 - val_loss: 0.0124\n",
            "Epoch 26/100\n",
            "240/240 - 1s - loss: 0.0128 - val_loss: 0.0119\n",
            "Epoch 27/100\n",
            "240/240 - 1s - loss: 0.0134 - val_loss: 0.0120\n",
            "Epoch 28/100\n",
            "240/240 - 1s - loss: 0.0122 - val_loss: 0.0119\n"
          ],
          "name": "stdout"
        }
      ]
    },
    {
      "cell_type": "code",
      "metadata": {
        "colab": {
          "base_uri": "https://localhost:8080/"
        },
        "id": "aURwJZU_lcrQ",
        "outputId": "ee53f9cf-a74d-41ca-8044-8e05021d68f9"
      },
      "source": [
        "model.summary()"
      ],
      "execution_count": 20,
      "outputs": [
        {
          "output_type": "stream",
          "text": [
            "Model: \"sequential\"\n",
            "_________________________________________________________________\n",
            "Layer (type)                 Output Shape              Param #   \n",
            "=================================================================\n",
            "lstm (LSTM)                  (None, 40)                6720      \n",
            "_________________________________________________________________\n",
            "dropout (Dropout)            (None, 40)                0         \n",
            "_________________________________________________________________\n",
            "dense (Dense)                (None, 14)                574       \n",
            "=================================================================\n",
            "Total params: 7,294\n",
            "Trainable params: 7,294\n",
            "Non-trainable params: 0\n",
            "_________________________________________________________________\n"
          ],
          "name": "stdout"
        }
      ]
    },
    {
      "cell_type": "code",
      "metadata": {
        "id": "QENaAniHlgPJ"
      },
      "source": [
        "# Generate predictions\n",
        "train_pred = model.predict(X_train1)\n",
        "#evaluation = model.evaluate(x=X_test, y=y_test, verbose=1)\n",
        "test_pred = model.predict(X_test1)"
      ],
      "execution_count": 31,
      "outputs": []
    },
    {
      "cell_type": "code",
      "metadata": {
        "id": "vrNWgMQCloNo"
      },
      "source": [
        "# De-standardising the output to original value\n",
        "train_pred = scaler.inverse_transform(train_pred)\n",
        "y_train = scaler.inverse_transform([Y_train1])\n",
        "test_pred = scaler.inverse_transform(test_pred)\n",
        "y_test = scaler.inverse_transform([Y_test1])\n",
        "predictions = test_pred"
      ],
      "execution_count": 32,
      "outputs": []
    },
    {
      "cell_type": "code",
      "metadata": {
        "colab": {
          "base_uri": "https://localhost:8080/"
        },
        "id": "i87ZvQUyzKFt",
        "outputId": "df6faa94-98e2-4dcf-bbb6-68012857a029"
      },
      "source": [
        "y_test.shape"
      ],
      "execution_count": 33,
      "outputs": [
        {
          "output_type": "execute_result",
          "data": {
            "text/plain": [
              "(1, 95)"
            ]
          },
          "metadata": {
            "tags": []
          },
          "execution_count": 33
        }
      ]
    },
    {
      "cell_type": "code",
      "metadata": {
        "colab": {
          "base_uri": "https://localhost:8080/"
        },
        "id": "eo2VL6gbzTAS",
        "outputId": "d738db78-e71e-4f6f-ee15-7ab38e8387ff"
      },
      "source": [
        "predictions.shape"
      ],
      "execution_count": 34,
      "outputs": [
        {
          "output_type": "execute_result",
          "data": {
            "text/plain": [
              "(95, 14)"
            ]
          },
          "metadata": {
            "tags": []
          },
          "execution_count": 34
        }
      ]
    },
    {
      "cell_type": "code",
      "metadata": {
        "colab": {
          "base_uri": "https://localhost:8080/"
        },
        "id": "GeBEaU9VzMeO",
        "outputId": "74c6c819-fd3c-4c5b-a905-45a21b8b6d02"
      },
      "source": [
        "test_pred.shape"
      ],
      "execution_count": 35,
      "outputs": [
        {
          "output_type": "execute_result",
          "data": {
            "text/plain": [
              "(95, 14)"
            ]
          },
          "metadata": {
            "tags": []
          },
          "execution_count": 35
        }
      ]
    },
    {
      "cell_type": "code",
      "metadata": {
        "colab": {
          "base_uri": "https://localhost:8080/"
        },
        "id": "XIeobhIYpt_s",
        "outputId": "dada36a6-724d-46e7-c4a4-6e89d7ffc888"
      },
      "source": [
        "import math\n",
        "from sklearn.metrics import mean_squared_error\n",
        "#trainset = math.sqrt(mean_squared_error(y_train[0],train_pred[:,0]))\n",
        "testset = math.sqrt(mean_squared_error(y_test[0],test_pred[:,0]))\n",
        "\n",
        "#print(\"The RMSE prediction value on trainset: \",trainset)\n",
        "print(\"The RMSE prediction value on testset: \",testset)"
      ],
      "execution_count": 36,
      "outputs": [
        {
          "output_type": "stream",
          "text": [
            "The RMSE prediction value on testset:  105.39379161706434\n"
          ],
          "name": "stdout"
        }
      ]
    },
    {
      "cell_type": "code",
      "metadata": {
        "id": "e0hFD-SstjDK"
      },
      "source": [
        "# Plot train loss and validation loss\n",
        "def plot_loss (history, model_name):\n",
        "    plt.figure(figsize = (10, 6))\n",
        "    plt.plot(history.history['loss'])\n",
        "    plt.plot(history.history['val_loss'])\n",
        "    plt.title('Model Train vs Validation Loss for ' + model_name)\n",
        "    plt.ylabel('Loss')\n",
        "    plt.xlabel('epoch')\n",
        "    plt.legend(['Train loss', 'Validation loss'], loc='upper right')"
      ],
      "execution_count": 37,
      "outputs": []
    },
    {
      "cell_type": "code",
      "metadata": {
        "colab": {
          "base_uri": "https://localhost:8080/",
          "height": 404
        },
        "id": "eG3YUbRjud4G",
        "outputId": "2469c15b-7e2a-4c1e-a92a-2dd8f421b026"
      },
      "source": [
        "plot_loss(history,'LSTM')"
      ],
      "execution_count": 38,
      "outputs": [
        {
          "output_type": "display_data",
          "data": {
            "image/png": "[encoded data removed]",
            "text/plain": [
              "<Figure size 720x432 with 1 Axes>"
            ]
          },
          "metadata": {
            "tags": [],
            "needs_background": "light"
          }
        }
      ]
    },
    {
      "cell_type": "code",
      "metadata": {
        "id": "UIO8j_WV30xj"
      },
      "source": [
        ""
      ],
      "execution_count": 29,
      "outputs": []
    }
  ]
}